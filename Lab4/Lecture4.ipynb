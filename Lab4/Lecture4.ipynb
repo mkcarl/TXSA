{
 "cells": [
  {
   "cell_type": "markdown",
   "source": [
    "# Stemming"
   ],
   "metadata": {
    "collapsed": false,
    "pycharm": {
     "name": "#%% md\n"
    }
   }
  },
  {
   "cell_type": "code",
   "execution_count": 21,
   "metadata": {
    "collapsed": true,
    "pycharm": {
     "name": "#%%\n"
    }
   },
   "outputs": [],
   "source": [
    "from nltk.tokenize import word_tokenize\n",
    "\n",
    "text = \"This is achieved in practice during stemming, a text preprocessing operation where morphologically complex strings are identified, decomposed into invariant stem (= lemma’s canonical form) and affixes, and the affixes are then deleted.\"\n",
    "tokens = word_tokenize(text)"
   ]
  },
  {
   "cell_type": "code",
   "execution_count": 10,
   "outputs": [],
   "source": [
    "from nltk.stem import PorterStemmer, LancasterStemmer, SnowballStemmer\n",
    "\n",
    "ps = PorterStemmer()\n",
    "ls = LancasterStemmer()\n",
    "ss = SnowballStemmer('english')"
   ],
   "metadata": {
    "collapsed": false,
    "pycharm": {
     "name": "#%%\n"
    }
   }
  },
  {
   "cell_type": "code",
   "execution_count": 11,
   "outputs": [
    {
     "name": "stdout",
     "output_type": "stream",
     "text": [
      "In --> in --- in --- in\n",
      "transfer --> transfer --- transf --- transfer\n",
      "models --> model --- model --- model\n",
      ", --> , --- , --- ,\n",
      "it --> it --- it --- it\n",
      "can --> can --- can --- can\n",
      "be --> be --- be --- be\n",
      "used --> use --- us --- use\n",
      "as --> as --- as --- as\n",
      "part --> part --- part --- part\n",
      "of --> of --- of --- of\n",
      "the --> the --- the --- the\n",
      "source --> sourc --- sourc --- sourc\n",
      "language --> languag --- langu --- languag\n",
      "linguistic --> linguist --- lingu --- linguist\n",
      "analysis --> analysi --- analys --- analysi\n",
      "to --> to --- to --- to\n",
      "yield --> yield --- yield --- yield\n",
      "the --> the --- the --- the\n",
      "morphosyntactic --> morphosyntact --- morphosyntact --- morphosyntact\n",
      "representation --> represent --- repres --- represent\n",
      "of --> of --- of --- of\n",
      "strings --> string --- strings --- string\n",
      "that --> that --- that --- that\n",
      "can --> can --- can --- can\n",
      "occupy --> occupi --- occupy --- occupi\n",
      "certain --> certain --- certain --- certain\n",
      "positions --> posit --- posit --- posit\n",
      "in --> in --- in --- in\n",
      "syntactic --> syntact --- syntact --- syntact\n",
      "trees --> tree --- tre --- tree\n",
      ", --> , --- , --- ,\n",
      "the --> the --- the --- the\n",
      "result --> result --- result --- result\n",
      "of --> of --- of --- of\n",
      "syntactic --> syntact --- syntact --- syntact\n",
      "analyses --> analys --- analys --- analys\n"
     ]
    }
   ],
   "source": [
    "for i in tokens:\n",
    "    print(f'{i} --> {ps.stem(i)} --- {ls.stem(i)} --- {ss.stem(i)}')"
   ],
   "metadata": {
    "collapsed": false,
    "pycharm": {
     "name": "#%%\n"
    }
   }
  },
  {
   "cell_type": "markdown",
   "source": [
    "# Lemmatization"
   ],
   "metadata": {
    "collapsed": false,
    "pycharm": {
     "name": "#%% md\n"
    }
   }
  },
  {
   "cell_type": "code",
   "execution_count": 27,
   "outputs": [
    {
     "name": "stdout",
     "output_type": "stream",
     "text": [
      "This --> This\n",
      "is --> is\n",
      "achieved --> achieved\n",
      "in --> in\n",
      "practice --> practice\n",
      "during --> during\n",
      "stemming --> stemming\n",
      ", --> ,\n",
      "a --> a\n",
      "text --> text\n",
      "preprocessing --> preprocessing\n",
      "operation --> operation\n",
      "where --> where\n",
      "morphologically --> morphologically\n",
      "complex --> complex\n",
      "strings --> string\n",
      "are --> are\n",
      "identified --> identified\n",
      ", --> ,\n",
      "decomposed --> decomposed\n",
      "into --> into\n",
      "invariant --> invariant\n",
      "stem --> stem\n",
      "( --> (\n",
      "= --> =\n",
      "lemma --> lemma\n",
      "’ --> ’\n",
      "s --> s\n",
      "canonical --> canonical\n",
      "form --> form\n",
      ") --> )\n",
      "and --> and\n",
      "affixes --> affix\n",
      ", --> ,\n",
      "and --> and\n",
      "the --> the\n",
      "affixes --> affix\n",
      "are --> are\n",
      "then --> then\n",
      "deleted --> deleted\n",
      ". --> .\n"
     ]
    }
   ],
   "source": [
    "import nltk\n",
    "wl = nltk.WordNetLemmatizer()\n",
    "for i in tokens:\n",
    "    print(f\"{i} --> {wl.lemmatize(i)}\")"
   ],
   "metadata": {
    "collapsed": false,
    "pycharm": {
     "name": "#%%\n"
    }
   }
  },
  {
   "cell_type": "code",
   "execution_count": 39,
   "outputs": [
    {
     "data": {
      "text/plain": "TextBlob(\"Ali est un excellent étudiant\")"
     },
     "execution_count": 39,
     "metadata": {},
     "output_type": "execute_result"
    }
   ],
   "source": [
    "from textblob import TextBlob\n",
    "bm = u'Ali is an excellent student'\n",
    "b = TextBlob(bm)\n",
    "b.translate(from_lang='en',to='fr')"
   ],
   "metadata": {
    "collapsed": false,
    "pycharm": {
     "name": "#%%\n"
    }
   }
  },
  {
   "cell_type": "code",
   "execution_count": null,
   "outputs": [],
   "source": [],
   "metadata": {
    "collapsed": false,
    "pycharm": {
     "name": "#%%\n"
    }
   }
  },
  {
   "cell_type": "code",
   "execution_count": null,
   "outputs": [],
   "source": [],
   "metadata": {
    "collapsed": false,
    "pycharm": {
     "name": "#%%\n"
    }
   }
  },
  {
   "cell_type": "markdown",
   "source": [],
   "metadata": {
    "collapsed": false,
    "pycharm": {
     "name": "#%% md\n"
    }
   }
  }
 ],
 "metadata": {
  "kernelspec": {
   "display_name": "Python 3",
   "language": "python",
   "name": "python3"
  },
  "language_info": {
   "codemirror_mode": {
    "name": "ipython",
    "version": 2
   },
   "file_extension": ".py",
   "mimetype": "text/x-python",
   "name": "python",
   "nbconvert_exporter": "python",
   "pygments_lexer": "ipython2",
   "version": "2.7.6"
  }
 },
 "nbformat": 4,
 "nbformat_minor": 0
}