{
 "cells": [
  {
   "cell_type": "code",
   "execution_count": 2,
   "metadata": {
    "collapsed": true,
    "pycharm": {
     "name": "#%%\n"
    }
   },
   "outputs": [
    {
     "data": {
      "text/plain": "'FSA.gv.pdf'"
     },
     "execution_count": 2,
     "metadata": {},
     "output_type": "execute_result"
    }
   ],
   "source": [
    "from graphviz import Digraph\n",
    "\n",
    "FSA = Digraph(name = 'FSA')\n",
    "FSA.attr(rankdir=\"LR\")\n",
    "\n",
    "FSA.node('A', \"q0\", shape='circle')\n",
    "FSA.node('B', \"q1\", shape='circle')\n",
    "FSA.node('C', \"q2\", shape='doublecircle')\n",
    "\n",
    "FSA.edge('A', 'A', 'b')\n",
    "FSA.edge('A', 'B', 'a')\n",
    "FSA.edge('B', 'A', 'b')\n",
    "FSA.edge('B', 'C', 'a')\n",
    "FSA.edge('C', 'A', 'b')\n",
    "FSA.edge('C', 'C', 'a')\n"
   ]
  },
  {
   "cell_type": "code",
   "execution_count": 16,
   "outputs": [
    {
     "data": {
      "text/plain": "FreqDist({'likes': 2, 'movies': 2, 'john': 1, 'to': 1, 'watch': 1, 'mary': 1, 'too': 1})"
     },
     "execution_count": 16,
     "metadata": {},
     "output_type": "execute_result"
    }
   ],
   "source": [
    "from string import punctuation\n",
    "from nltk.probability import FreqDist\n",
    "from nltk.tokenize import word_tokenize\n",
    "\n",
    "sentence = \"John likes to watch movies. Mary likes movies too\"\n",
    "\n",
    "dist = FreqDist()\n",
    "\n",
    "for word in word_tokenize(sentence):\n",
    "    if word in punctuation : continue\n",
    "    dist[word.lower()] += 1\n",
    "\n",
    "# dist\n",
    "\n",
    "dist2 = FreqDist(word for word in word_tokenize(sentence.lower()) if word not in punctuation)\n",
    "dist2"
   ],
   "metadata": {
    "collapsed": false,
    "pycharm": {
     "name": "#%%\n"
    }
   }
  },
  {
   "cell_type": "code",
   "execution_count": null,
   "outputs": [],
   "source": [],
   "metadata": {
    "collapsed": false,
    "pycharm": {
     "name": "#%%\n"
    }
   }
  },
  {
   "cell_type": "code",
   "execution_count": null,
   "outputs": [],
   "source": [],
   "metadata": {
    "collapsed": false,
    "pycharm": {
     "name": "#%%\n"
    }
   }
  },
  {
   "cell_type": "code",
   "execution_count": null,
   "outputs": [],
   "source": [],
   "metadata": {
    "collapsed": false,
    "pycharm": {
     "name": "#%%\n"
    }
   }
  }
 ],
 "metadata": {
  "kernelspec": {
   "display_name": "Python 3",
   "language": "python",
   "name": "python3"
  },
  "language_info": {
   "codemirror_mode": {
    "name": "ipython",
    "version": 2
   },
   "file_extension": ".py",
   "mimetype": "text/x-python",
   "name": "python",
   "nbconvert_exporter": "python",
   "pygments_lexer": "ipython2",
   "version": "2.7.6"
  }
 },
 "nbformat": 4,
 "nbformat_minor": 0
}