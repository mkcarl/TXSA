{
 "cells": [
  {
   "cell_type": "markdown",
   "metadata": {
    "pycharm": {
     "name": "#%% md\n"
    }
   },
   "source": [
    "## Parse Tree 01"
   ]
  },
  {
   "cell_type": "code",
   "execution_count": 1,
   "metadata": {
    "pycharm": {
     "name": "#%%\n"
    }
   },
   "outputs": [
    {
     "name": "stdout",
     "output_type": "stream",
     "text": [
      "['I', 'write', 'a', 'book']\n",
      "(S (NP I) (VP (V write) (NP (Det a) (N book))))\n"
     ]
    }
   ],
   "source": [
    "import nltk\n",
    "\n",
    "text2 = nltk.CFG.fromstring(\"\"\"\n",
    "S -> NP VP \n",
    "PP -> P NP \n",
    "NP -> Det N | PP NP | Det N PP | 'I'\n",
    "VP -> V NP | VP PP | V \n",
    "Det -> 'a'\n",
    "N -> 'book'\n",
    "V -> 'write'\n",
    "\"\"\")\n",
    "text1 = nltk.tokenize.word_tokenize(\"I write a book\")\n",
    "print(text1)\n",
    "parser = nltk.ChartParser(text2)\n",
    "for tree in parser.parse(text1):\n",
    "    tree.draw()\n",
    "print(tree)"
   ]
  },
  {
   "cell_type": "markdown",
   "metadata": {
    "pycharm": {
     "name": "#%% md\n"
    }
   },
   "source": [
    "## Parse Tree 02"
   ]
  },
  {
   "cell_type": "code",
   "execution_count": 2,
   "metadata": {
    "pycharm": {
     "name": "#%%\n"
    }
   },
   "outputs": [
    {
     "name": "stdout",
     "output_type": "stream",
     "text": [
      "(S\n",
      "  (NP I)\n",
      "  (VP\n",
      "    (V shot)\n",
      "    (NP (Det an) (N elephant) (PP (P in) (NP (Det my) (N pajamas))))))\n"
     ]
    }
   ],
   "source": [
    "import nltk\n",
    "\n",
    "groucho_grammar = nltk.CFG.fromstring(\"\"\"\n",
    "S -> NP VP \n",
    "PP -> P NP \n",
    "NP -> Det N | Det N PP | 'I' \n",
    "VP -> V NP | VP PP \n",
    "Det -> 'an' | 'my' \n",
    "N -> 'elephant' | 'pajamas' \n",
    "V -> 'shot' \n",
    "P -> 'in' \n",
    "\"\"\")\n",
    "\n",
    "sent = ['I', 'shot', 'an', 'elephant', 'in', 'my', 'pajamas']\n",
    "parser = nltk.ChartParser(groucho_grammar)\n",
    "for tree in parser.parse(sent):\n",
    "    tree.draw()\n",
    "print(tree)"
   ]
  },
  {
   "cell_type": "markdown",
   "metadata": {
    "pycharm": {
     "name": "#%% md\n"
    }
   },
   "source": [
    "## Parse Tree 03"
   ]
  },
  {
   "cell_type": "code",
   "execution_count": 2,
   "metadata": {
    "pycharm": {
     "name": "#%%\n"
    }
   },
   "outputs": [
    {
     "name": "stdout",
     "output_type": "stream",
     "text": [
      "['Alice', 'loves', 'Bob']\n",
      "\n",
      "(S\n",
      "  (NP (Det ) (N Alice))\n",
      "  (VP (VP (V loves)) (PP (P ) (NP (Det ) (N Bob)))))\n",
      "['Alice', 'loves', 'Bob']\n",
      "\n",
      "(S (NP (N Alice)) (VP (V loves) (NP (N Bob))))\n"
     ]
    }
   ],
   "source": [
    "import nltk\n",
    "\n",
    "text2 = nltk.CFG.fromstring(\"\"\"\n",
    "S -> NP VP \n",
    "PP -> P NP \n",
    "NP -> Det N | PP NP | Det N PP\n",
    "VP -> V NP | VP PP | V \n",
    "N -> 'Alice' | 'Bob'\n",
    "V -> 'loves'\n",
    "Det -> \n",
    "P -> \n",
    "\"\"\")\n",
    "text1 = nltk.tokenize.word_tokenize(\"Alice loves Bob\")\n",
    "print(text1)\n",
    "print()\n",
    "parser = nltk.ChartParser(text2)\n",
    "for tree in parser.parse(text1):\n",
    "    tree.draw()\n",
    "print(tree)\n",
    "\n",
    "# ~~~~~~~~~~~~~~~~~~~~ Another way of writing the code ~~~~~~~~~~~~~~~~~~~~ \n",
    "\n",
    "import nltk\n",
    "\n",
    "text2 = nltk.CFG.fromstring(\"\"\"\n",
    "S -> NP VP \n",
    "NP -> N\n",
    "VP -> V NP | VP PP | V \n",
    "N -> 'Alice' | 'Bob'\n",
    "V -> 'loves'\n",
    "\"\"\")\n",
    "text1 = nltk.tokenize.word_tokenize(\"Alice loves Bob\")\n",
    "print(text1)\n",
    "print()\n",
    "parser = nltk.ChartParser(text2)\n",
    "for tree in parser.parse(text1):\n",
    "   print(tree)\n",
    "tree.draw()"
   ]
  },
  {
   "cell_type": "markdown",
   "metadata": {
    "pycharm": {
     "name": "#%% md\n"
    }
   },
   "source": [
    "## Parse Tree 04 – Adjective Phrase"
   ]
  },
  {
   "cell_type": "markdown",
   "metadata": {
    "pycharm": {
     "name": "#%% md\n"
    }
   },
   "source": [
    "The little bear saw the fine fat trout in the brook\n",
    "\n",
    "Clue:\n",
    "NP --> DT Nom\n",
    "~~~~~~~~~~~~~\n",
    "Nom --> Adj N | Adj Adj N"
   ]
  },
  {
   "cell_type": "code",
   "execution_count": 4,
   "metadata": {
    "pycharm": {
     "name": "#%%\n"
    }
   },
   "outputs": [
    {
     "name": "stdout",
     "output_type": "stream",
     "text": [
      "['the', 'little', 'bear', 'saw', 'the', 'fine', 'fat', 'trout', 'in', 'the', 'brook']\n",
      "\n",
      "(S\n",
      "  (NP (Det the) (Nom (Adj little) (N bear)))\n",
      "  (VP\n",
      "    (VP (V saw) (NP (Det the) (Nom (Adj fine) (Adj fat) (N trout))))\n",
      "    (PP (P in) (NP (Det the) (N brook)))))\n"
     ]
    }
   ],
   "source": [
    "import nltk\n",
    "text2 = nltk.CFG.fromstring(\"\"\"\n",
    "S -> NP VP \n",
    "PP -> P NP \n",
    "NP -> Det N | Det N PP | Det Nom | 'the'\n",
    "VP -> V NP | VP PP \n",
    "Nom -> Adj N | Adj Adj N\n",
    "Det -> 'the'\n",
    "N -> 'bear' | 'trout' | 'brook'\n",
    "V -> 'saw' \n",
    "P -> 'in' \n",
    "Adj -> 'little' | 'fine' | 'fat'\n",
    "\"\"\")\n",
    "\n",
    "text1 = nltk.tokenize.word_tokenize(\"the little bear saw the fine fat trout in the brook\")\n",
    "print(text1)\n",
    "print()\n",
    "parser = nltk.ChartParser(text2)\n",
    "for tree1 in parser.parse(text1):\n",
    "    tree1.draw()\n",
    "print(tree1)"
   ]
  },
  {
   "cell_type": "markdown",
   "metadata": {
    "pycharm": {
     "name": "#%% md\n"
    }
   },
   "source": [
    "## Parse Tree 05 – Adjective Phrase"
   ]
  },
  {
   "cell_type": "code",
   "execution_count": 5,
   "metadata": {
    "pycharm": {
     "name": "#%%\n"
    }
   },
   "outputs": [
    {
     "name": "stdout",
     "output_type": "stream",
     "text": [
      "(S\n",
      "  (NP (Det the) (Nom (Adj angry) (Nom (N bear))))\n",
      "  (VP\n",
      "    (V chased)\n",
      "    (NP\n",
      "      (Det the)\n",
      "      (Nom (Adj frightened) (Nom (Adj little) (Nom (N squirrel)))))))\n"
     ]
    }
   ],
   "source": [
    "import nltk\n",
    "grammar2 = nltk.CFG.fromstring(\"\"\"\n",
    "S  -> NP VP\n",
    "NP -> Det Nom | Det N \n",
    "Nom -> Adj Nom | N\n",
    "VP -> V Adj | V NP | V | V NP PP\n",
    "PP -> P NP\n",
    "Det -> 'the'\n",
    "N -> 'bear' | 'squirrel'\n",
    "Adj  -> 'angry' | 'frightened' |  'little'\n",
    "V ->  'chased' \n",
    "\"\"\")\n",
    "\n",
    "sent = ['the', 'angry', 'bear', 'chased', 'the', 'frightened', 'little', 'squirrel']\n",
    "parser = nltk.ChartParser(grammar2)\n",
    "for tree in parser.parse(sent):\n",
    "    tree.draw()\n",
    "print(tree)"
   ]
  },
  {
   "cell_type": "markdown",
   "metadata": {
    "pycharm": {
     "name": "#%% md\n"
    }
   },
   "source": [
    "## Parse Tree 06 – Adverb Phrases (AdvP)"
   ]
  },
  {
   "cell_type": "code",
   "execution_count": 6,
   "metadata": {
    "pycharm": {
     "name": "#%%\n"
    }
   },
   "outputs": [
    {
     "name": "stdout",
     "output_type": "stream",
     "text": [
      "['Ken', 'snores', 'very', 'loudly']\n",
      "(S (NP (N Ken)) (VP (V snores) (ADV (DEG very) (ADV loudly))))\n"
     ]
    }
   ],
   "source": [
    "import nltk\n",
    "\n",
    "sentence = \"Ken snores very loudly\"\n",
    "\n",
    "gram = nltk.CFG.fromstring(\"\"\"\n",
    "S -> NP VP\n",
    "NP -> N\n",
    "VP -> V ADV\n",
    "N -> 'Ken'\n",
    "V -> 'snores'\n",
    "DEG -> 'very'\n",
    "ADV -> DEG ADV | 'loudly'\n",
    "\"\"\")\n",
    "\n",
    "token = nltk.tokenize.word_tokenize(sentence)\n",
    "print(token)\n",
    "parser = nltk.ChartParser(gram)\n",
    "for tree in parser.parse(token):\n",
    "    tree.draw()\n",
    "print(tree)"
   ]
  },
  {
   "cell_type": "code",
   "execution_count": 7,
   "metadata": {
    "pycharm": {
     "name": "#%%\n"
    }
   },
   "outputs": [
    {
     "name": "stdout",
     "output_type": "stream",
     "text": [
      "unfortunately the cat killed the mouse\n",
      "(S\n",
      "  (ADV unfortunately)\n",
      "  (NP (DT the) (N cat))\n",
      "  (VP (V killed) (NP (DT the) (N mouse))))\n",
      "the cat unfortunately killed the mouse\n",
      "(S\n",
      "  (NP (DT the) (N cat))\n",
      "  (VP (ADV unfortunately) (VP (V killed) (NP (DT the) (N mouse)))))\n",
      "the cat killed the mouse unfortunately\n",
      "(S\n",
      "  (NP (DT the) (N cat))\n",
      "  (VP (VP (V killed) (NP (DT the) (N mouse))) (ADV unfortunately)))\n"
     ]
    }
   ],
   "source": [
    "import nltk\n",
    "from nltk.tokenize import word_tokenize\n",
    "\n",
    "sents = [\n",
    "    \"unfortunately the cat killed the mouse\",\n",
    "    \"the cat unfortunately killed the mouse\",\n",
    "    \"the cat killed the mouse unfortunately\"\n",
    "]\n",
    "\n",
    "grammar = nltk.CFG.fromstring(\"\"\"\n",
    "S -> ADV NP VP | NP VP\n",
    "NP -> DT N\n",
    "VP -> ADV VP | VP ADV | V NP\n",
    "DT -> 'the'\n",
    "N -> 'cat' | 'mouse'\n",
    "V -> 'killed'\n",
    "ADV -> 'unfortunately'\n",
    "\"\"\")\n",
    "\n",
    "parser = nltk.ChartParser(grammar)\n",
    "\n",
    "for sent in sents:\n",
    "    print(sent)\n",
    "    for tree in parser.parse(word_tokenize(sent)):\n",
    "        tree.draw()\n",
    "    print(tree)"
   ]
  }
 ],
 "metadata": {
  "kernelspec": {
   "display_name": "Python 3",
   "language": "python",
   "name": "python3"
  },
  "language_info": {
   "codemirror_mode": {
    "name": "ipython",
    "version": 3
   },
   "file_extension": ".py",
   "mimetype": "text/x-python",
   "name": "python",
   "nbconvert_exporter": "python",
   "pygments_lexer": "ipython3",
   "version": "3.7.3"
  }
 },
 "nbformat": 4,
 "nbformat_minor": 2
}