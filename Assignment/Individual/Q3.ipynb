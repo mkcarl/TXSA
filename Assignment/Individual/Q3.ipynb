{
 "cells": [
  {
   "cell_type": "markdown",
   "source": [
    "# Question 3\n",
    "using Data_2.txt"
   ],
   "metadata": {
    "collapsed": false,
    "pycharm": {
     "name": "#%% md\n"
    }
   }
  },
  {
   "cell_type": "markdown",
   "source": [
    "## Demonstrate stop words and punctuations removal from the given text corpus and report the output suitably."
   ],
   "metadata": {
    "collapsed": false,
    "pycharm": {
     "name": "#%% md\n"
    }
   }
  },
  {
   "cell_type": "code",
   "execution_count": 1,
   "outputs": [
    {
     "name": "stdout",
     "output_type": "stream",
     "text": [
      "It is one thing to automatically detect that a particular word occurs in a text, and to\n",
      "display some words that appear in the same context. However, we can also determine\n",
      "the location of a word in the text: how many words from the beginning it appears. This\n",
      "positional information can be displayed using a dispersion plot. Each stripe represents\n",
      "an instance of a word, and each row represents the entire text.\n"
     ]
    }
   ],
   "source": [
    "with open(\"Data_1.txt\", 'r') as f:\n",
    "    data = f.read()\n",
    "print(data)"
   ],
   "metadata": {
    "collapsed": false,
    "pycharm": {
     "name": "#%%\n"
    }
   }
  },
  {
   "cell_type": "code",
   "execution_count": 2,
   "outputs": [
    {
     "name": "stdout",
     "output_type": "stream",
     "text": [
      "['It', 'is', 'one', 'thing', 'to', 'automatically', 'detect', 'that', 'a', 'particular', 'word', 'occurs', 'in', 'a', 'text', ',', 'and', 'to', 'display', 'some', 'words', 'that', 'appear', 'in', 'the', 'same', 'context', '.', 'However', ',', 'we', 'can', 'also', 'determine', 'the', 'location', 'of', 'a', 'word', 'in', 'the', 'text', ':', 'how', 'many', 'words', 'from', 'the', 'beginning', 'it', 'appears', '.', 'This', 'positional', 'information', 'can', 'be', 'displayed', 'using', 'a', 'dispersion', 'plot', '.', 'Each', 'stripe', 'represents', 'an', 'instance', 'of', 'a', 'word', ',', 'and', 'each', 'row', 'represents', 'the', 'entire', 'text', '.']\n"
     ]
    }
   ],
   "source": [
    "from nltk.tokenize import word_tokenize\n",
    "words = word_tokenize(data)\n",
    "print(words)"
   ],
   "metadata": {
    "collapsed": false,
    "pycharm": {
     "name": "#%%\n"
    }
   }
  },
  {
   "cell_type": "code",
   "execution_count": 3,
   "outputs": [
    {
     "name": "stdout",
     "output_type": "stream",
     "text": [
      "['one', 'thing', 'automatically', 'detect', 'particular', 'word', 'occurs', 'text', 'display', 'words', 'appear', 'context', 'However', 'also', 'determine', 'location', 'word', 'text', 'many', 'words', 'beginning', 'appears', 'positional', 'information', 'displayed', 'using', 'dispersion', 'plot', 'stripe', 'represents', 'instance', 'word', 'row', 'represents', 'entire', 'text']\n"
     ]
    }
   ],
   "source": [
    "from nltk.corpus import stopwords\n",
    "from string import punctuation\n",
    "\n",
    "stopTokens = list(stopwords.words('english')) + list(punctuation)\n",
    "\n",
    "\n",
    "final = []\n",
    "stopwordsFound = []\n",
    "for word in words :\n",
    "    if word.lower() not in stopTokens:\n",
    "        final.append(word)\n",
    "    else :\n",
    "        stopwordsFound.append(word)\n",
    "print(final)"
   ],
   "metadata": {
    "collapsed": false,
    "pycharm": {
     "name": "#%%\n"
    }
   }
  },
  {
   "cell_type": "markdown",
   "source": [
    "## Report the stop words found in the given text corpus."
   ],
   "metadata": {
    "collapsed": false,
    "pycharm": {
     "name": "#%% md\n"
    }
   }
  },
  {
   "cell_type": "code",
   "execution_count": 5,
   "outputs": [
    {
     "name": "stdout",
     "output_type": "stream",
     "text": [
      "['It', 'is', 'to', 'that', 'a', 'in', 'a', ',', 'and', 'to', 'some', 'that', 'in', 'the', 'same', '.', ',', 'we', 'can', 'the', 'of', 'a', 'in', 'the', ':', 'how', 'from', 'the', 'it', '.', 'This', 'can', 'be', 'a', '.', 'Each', 'an', 'of', 'a', ',', 'and', 'each', 'the', '.']\n",
      "There are 44 stop tokens.\n"
     ]
    }
   ],
   "source": [
    "print(stopwordsFound)\n",
    "print(f'There are {len(stopwordsFound)} stop tokens.')"
   ],
   "metadata": {
    "collapsed": false,
    "pycharm": {
     "name": "#%%\n"
    }
   }
  },
  {
   "cell_type": "markdown",
   "source": [
    "## Explain the importance of filtering the stop words and punctuations in text analytics."
   ],
   "metadata": {
    "collapsed": false,
    "pycharm": {
     "name": "#%% md\n"
    }
   }
  },
  {
   "cell_type": "markdown",
   "source": [
    "Stop words do not provide any additional meaning to the body of text. It only helps with the structure of the sentence, which is defined in the English grammar. Therefore, by removing the stopwords in the text, it helps the model to only focus on the important key features in the text."
   ],
   "metadata": {
    "collapsed": false,
    "pycharm": {
     "name": "#%% md\n"
    }
   }
  },
  {
   "cell_type": "code",
   "execution_count": 4,
   "outputs": [],
   "source": [],
   "metadata": {
    "collapsed": false,
    "pycharm": {
     "name": "#%%\n"
    }
   }
  },
  {
   "cell_type": "code",
   "execution_count": 4,
   "outputs": [],
   "source": [],
   "metadata": {
    "collapsed": false,
    "pycharm": {
     "name": "#%%\n"
    }
   }
  }
 ],
 "metadata": {
  "kernelspec": {
   "display_name": "Python 3",
   "language": "python",
   "name": "python3"
  },
  "language_info": {
   "codemirror_mode": {
    "name": "ipython",
    "version": 2
   },
   "file_extension": ".py",
   "mimetype": "text/x-python",
   "name": "python",
   "nbconvert_exporter": "python",
   "pygments_lexer": "ipython2",
   "version": "2.7.6"
  }
 },
 "nbformat": 4,
 "nbformat_minor": 0
}