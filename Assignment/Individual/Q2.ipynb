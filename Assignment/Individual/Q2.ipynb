{
 "cells": [
  {
   "cell_type": "markdown",
   "source": [
    "# Question 2\n",
    "\n",
    "using Data_1.txt"
   ],
   "metadata": {
    "collapsed": false,
    "pycharm": {
     "name": "#%% md\n"
    }
   }
  },
  {
   "cell_type": "markdown",
   "source": [
    "## Explain the importance of stemming in text analytics"
   ],
   "metadata": {
    "collapsed": false,
    "pycharm": {
     "name": "#%% md\n"
    }
   }
  },
  {
   "cell_type": "markdown",
   "source": [
    "In terms of the English language, words often can take many form other than its base form. In English Grammar, a word is morphed through inflectional morphology depending on the sentence structure. However, the base word and the inflected words have the same meaning, just used in different context as in past tense and present tense. Therefore, stemming is important to reduce the inflected words into its base form, to normalize the text into a standard form irrespective of their inflected form. This process may help in information retrieval systems like search engines such that the system is able to return relevant and comparable results.\n",
    "\n",
    "https://towardsdatascience.com/stemming-vs-lemmatization-in-nlp-dea008600a0\n",
    "https://www.analyticsvidhya.com/blog/2021/11/an-introduction-to-stemming-in-natural-language-processing/"
   ],
   "metadata": {
    "collapsed": false,
    "pycharm": {
     "name": "#%% md\n"
    }
   }
  },
  {
   "cell_type": "code",
   "execution_count": 2,
   "outputs": [
    {
     "name": "stdout",
     "output_type": "stream",
     "text": [
      "It is one thing to automatically detect that a particular word occurs in a text, and to\n",
      "display some words that appear in the same context. However, we can also determine\n",
      "the location of a word in the text: how many words from the beginning it appears. This\n",
      "positional information can be displayed using a dispersion plot. Each stripe represents\n",
      "an instance of a word, and each row represents the entire text.\n"
     ]
    },
    {
     "data": {
      "text/plain": "WordList(['It', 'is', 'one', 'thing', 'to', 'automatically', 'detect', 'that', 'a', 'particular', 'word', 'occurs', 'in', 'a', 'text', 'and', 'to', 'display', 'some', 'words', 'that', 'appear', 'in', 'the', 'same', 'context', 'However', 'we', 'can', 'also', 'determine', 'the', 'location', 'of', 'a', 'word', 'in', 'the', 'text', 'how', 'many', 'words', 'from', 'the', 'beginning', 'it', 'appears', 'This', 'positional', 'information', 'can', 'be', 'displayed', 'using', 'a', 'dispersion', 'plot', 'Each', 'stripe', 'represents', 'an', 'instance', 'of', 'a', 'word', 'and', 'each', 'row', 'represents', 'the', 'entire', 'text'])"
     },
     "execution_count": 2,
     "metadata": {},
     "output_type": "execute_result"
    }
   ],
   "source": [
    "with open(\"Data_1.txt\", 'r') as f:\n",
    "    data = f.read()\n",
    "print(data)\n",
    "\n",
    "from textblob import TextBlob\n",
    "blob = TextBlob(data)\n",
    "words_blob = blob.words\n",
    "words_blob"
   ],
   "metadata": {
    "collapsed": false,
    "pycharm": {
     "name": "#%%\n"
    }
   }
  },
  {
   "cell_type": "markdown",
   "source": [
    "## Demonstrate word stemming using Regular Expression, Porter Stemmer and Lancaster Stemmer and report the output"
   ],
   "metadata": {
    "collapsed": false,
    "pycharm": {
     "name": "#%% md\n"
    }
   }
  },
  {
   "cell_type": "markdown",
   "source": [
    "### Using RegEx"
   ],
   "metadata": {
    "collapsed": false,
    "pycharm": {
     "name": "#%% md\n"
    }
   }
  },
  {
   "cell_type": "code",
   "execution_count": 3,
   "outputs": [
    {
     "name": "stdout",
     "output_type": "stream",
     "text": [
      "It              ==> It\n",
      "is              ==> i\n",
      "one             ==> one\n",
      "thing           ==> th\n",
      "to              ==> to\n",
      "automatically   ==> automatically\n",
      "detect          ==> detect\n",
      "that            ==> that\n",
      "a               ==> a\n",
      "particular      ==> particular\n",
      "word            ==> word\n",
      "occurs          ==> occur\n",
      "in              ==> in\n",
      "a               ==> a\n",
      "text            ==> text\n",
      "and             ==> and\n",
      "to              ==> to\n",
      "display         ==> display\n",
      "some            ==> some\n",
      "words           ==> word\n",
      "that            ==> that\n",
      "appear          ==> appear\n",
      "in              ==> in\n",
      "the             ==> the\n",
      "same            ==> same\n",
      "context         ==> context\n",
      "However         ==> Howev\n",
      "we              ==> we\n",
      "can             ==> can\n",
      "also            ==> also\n",
      "determine       ==> determine\n",
      "the             ==> the\n",
      "location        ==> location\n",
      "of              ==> of\n",
      "a               ==> a\n",
      "word            ==> word\n",
      "in              ==> in\n",
      "the             ==> the\n",
      "text            ==> text\n",
      "how             ==> how\n",
      "many            ==> many\n",
      "words           ==> word\n",
      "from            ==> from\n",
      "the             ==> the\n",
      "beginning       ==> beginn\n",
      "it              ==> it\n",
      "appears         ==> appear\n",
      "This            ==> Thi\n",
      "positional      ==> positional\n",
      "information     ==> information\n",
      "can             ==> can\n",
      "be              ==> be\n",
      "displayed       ==> display\n",
      "using           ==> us\n",
      "a               ==> a\n",
      "dispersion      ==> dispersion\n",
      "plot            ==> plot\n",
      "Each            ==> Each\n",
      "stripe          ==> stripe\n",
      "represents      ==> represent\n",
      "an              ==> an\n",
      "instance        ==> instance\n",
      "of              ==> of\n",
      "a               ==> a\n",
      "word            ==> word\n",
      "and             ==> and\n",
      "each            ==> each\n",
      "row             ==> row\n",
      "represents      ==> represent\n",
      "the             ==> the\n",
      "entire          ==> entire\n",
      "text            ==> text\n"
     ]
    }
   ],
   "source": [
    "import re\n",
    "\n",
    "# Defining the affixes\n",
    "# s\n",
    "# s'\n",
    "# 's\n",
    "# ed\n",
    "# ing\n",
    "# en\n",
    "# er\n",
    "# est\n",
    "\n",
    "# translating it into RegEx exp\n",
    "suffixes = r\"s$|s'$|'s$|ed$|ing$|en$|er$|est$\"\n",
    "for word in words_blob:\n",
    "    stem = re.sub(suffixes, '', word)\n",
    "    print(f'{word.ljust(15)} ==> {stem}')\n"
   ],
   "metadata": {
    "collapsed": false,
    "pycharm": {
     "name": "#%%\n"
    }
   }
  },
  {
   "cell_type": "markdown",
   "source": [
    "In some cases, RegEx will not stem the words correctly, for example `is` was stemmed to `i`, which is totally wrong. The word `thing` was also stemmed to `th` which does not have any meaning. This is because RegEx does not check whether the output is a proper word, but only does the pattern matching."
   ],
   "metadata": {
    "collapsed": false,
    "pycharm": {
     "name": "#%% md\n"
    }
   }
  },
  {
   "cell_type": "markdown",
   "source": [
    "### Using Potter Stemmer"
   ],
   "metadata": {
    "collapsed": false,
    "pycharm": {
     "name": "#%% md\n"
    }
   }
  },
  {
   "cell_type": "code",
   "execution_count": 4,
   "outputs": [
    {
     "name": "stdout",
     "output_type": "stream",
     "text": [
      "It              ==> it\n",
      "is              ==> is\n",
      "one             ==> one\n",
      "thing           ==> thing\n",
      "to              ==> to\n",
      "automatically   ==> automat\n",
      "detect          ==> detect\n",
      "that            ==> that\n",
      "a               ==> a\n",
      "particular      ==> particular\n",
      "word            ==> word\n",
      "occurs          ==> occur\n",
      "in              ==> in\n",
      "a               ==> a\n",
      "text            ==> text\n",
      "and             ==> and\n",
      "to              ==> to\n",
      "display         ==> display\n",
      "some            ==> some\n",
      "words           ==> word\n",
      "that            ==> that\n",
      "appear          ==> appear\n",
      "in              ==> in\n",
      "the             ==> the\n",
      "same            ==> same\n",
      "context         ==> context\n",
      "However         ==> howev\n",
      "we              ==> we\n",
      "can             ==> can\n",
      "also            ==> also\n",
      "determine       ==> determin\n",
      "the             ==> the\n",
      "location        ==> locat\n",
      "of              ==> of\n",
      "a               ==> a\n",
      "word            ==> word\n",
      "in              ==> in\n",
      "the             ==> the\n",
      "text            ==> text\n",
      "how             ==> how\n",
      "many            ==> mani\n",
      "words           ==> word\n",
      "from            ==> from\n",
      "the             ==> the\n",
      "beginning       ==> begin\n",
      "it              ==> it\n",
      "appears         ==> appear\n",
      "This            ==> thi\n",
      "positional      ==> posit\n",
      "information     ==> inform\n",
      "can             ==> can\n",
      "be              ==> be\n",
      "displayed       ==> display\n",
      "using           ==> use\n",
      "a               ==> a\n",
      "dispersion      ==> dispers\n",
      "plot            ==> plot\n",
      "Each            ==> each\n",
      "stripe          ==> stripe\n",
      "represents      ==> repres\n",
      "an              ==> an\n",
      "instance        ==> instanc\n",
      "of              ==> of\n",
      "a               ==> a\n",
      "word            ==> word\n",
      "and             ==> and\n",
      "each            ==> each\n",
      "row             ==> row\n",
      "represents      ==> repres\n",
      "the             ==> the\n",
      "entire          ==> entir\n",
      "text            ==> text\n"
     ]
    }
   ],
   "source": [
    "from nltk.stem import PorterStemmer\n",
    "\n",
    "p = PorterStemmer()\n",
    "for word in words_blob:\n",
    "    stem = p.stem(word)\n",
    "    print(f'{word.ljust(15)} ==> {stem}')"
   ],
   "metadata": {
    "collapsed": false,
    "pycharm": {
     "name": "#%%\n"
    }
   }
  },
  {
   "cell_type": "markdown",
   "source": [
    "For Porter Stemmer, it works better than RegEx as we can see in words like `is` and `thing` does not get mistakenly stemmed like in RegEx. It is also easier to use Porter Stemmer as we do not need to define the inflectional morphology suffixes manually like we do in RegEx. There are many more words that get stemmed like `automatic`, `location`, `information`."
   ],
   "metadata": {
    "collapsed": false,
    "pycharm": {
     "name": "#%% md\n"
    }
   }
  },
  {
   "cell_type": "markdown",
   "source": [
    "### Using Lancaster Stemmer"
   ],
   "metadata": {
    "collapsed": false,
    "pycharm": {
     "name": "#%% md\n"
    }
   }
  },
  {
   "cell_type": "code",
   "execution_count": 5,
   "outputs": [
    {
     "name": "stdout",
     "output_type": "stream",
     "text": [
      "It              ==> it\n",
      "is              ==> is\n",
      "one             ==> on\n",
      "thing           ==> thing\n",
      "to              ==> to\n",
      "automatically   ==> autom\n",
      "detect          ==> detect\n",
      "that            ==> that\n",
      "a               ==> a\n",
      "particular      ==> particul\n",
      "word            ==> word\n",
      "occurs          ==> occ\n",
      "in              ==> in\n",
      "a               ==> a\n",
      "text            ==> text\n",
      "and             ==> and\n",
      "to              ==> to\n",
      "display         ==> display\n",
      "some            ==> som\n",
      "words           ==> word\n",
      "that            ==> that\n",
      "appear          ==> appear\n",
      "in              ==> in\n",
      "the             ==> the\n",
      "same            ==> sam\n",
      "context         ==> context\n",
      "However         ==> howev\n",
      "we              ==> we\n",
      "can             ==> can\n",
      "also            ==> also\n",
      "determine       ==> determin\n",
      "the             ==> the\n",
      "location        ==> loc\n",
      "of              ==> of\n",
      "a               ==> a\n",
      "word            ==> word\n",
      "in              ==> in\n",
      "the             ==> the\n",
      "text            ==> text\n",
      "how             ==> how\n",
      "many            ==> many\n",
      "words           ==> word\n",
      "from            ==> from\n",
      "the             ==> the\n",
      "beginning       ==> begin\n",
      "it              ==> it\n",
      "appears         ==> appear\n",
      "This            ==> thi\n",
      "positional      ==> posit\n",
      "information     ==> inform\n",
      "can             ==> can\n",
      "be              ==> be\n",
      "displayed       ==> display\n",
      "using           ==> us\n",
      "a               ==> a\n",
      "dispersion      ==> dispers\n",
      "plot            ==> plot\n",
      "Each            ==> each\n",
      "stripe          ==> stripe\n",
      "represents      ==> repres\n",
      "an              ==> an\n",
      "instance        ==> inst\n",
      "of              ==> of\n",
      "a               ==> a\n",
      "word            ==> word\n",
      "and             ==> and\n",
      "each            ==> each\n",
      "row             ==> row\n",
      "represents      ==> repres\n",
      "the             ==> the\n",
      "entire          ==> entir\n",
      "text            ==> text\n"
     ]
    }
   ],
   "source": [
    "from nltk.stem import LancasterStemmer\n",
    "l =  LancasterStemmer()\n",
    "for word in words_blob:\n",
    "    stem = l.stem(word)\n",
    "    print(f'{word.ljust(15)} ==> {stem}')"
   ],
   "metadata": {
    "collapsed": false,
    "pycharm": {
     "name": "#%%\n"
    }
   }
  },
  {
   "cell_type": "markdown",
   "source": [
    "Using Lancaster Stemmer, similar to Porter Stemmer we do not need to manually define the suffixes. However, when compared to Porter Stemmer, it does not properly stem some words like `occurs`, `location`, `position`. These words are not properly stemmed, leaving the output to make no sense."
   ],
   "metadata": {
    "collapsed": false,
    "pycharm": {
     "name": "#%% md\n"
    }
   }
  },
  {
   "cell_type": "markdown",
   "source": [
    "## Justify the most suitable stemming operation for text analytics. Support your answer using the obtained output."
   ],
   "metadata": {
    "collapsed": false,
    "pycharm": {
     "name": "#%% md\n"
    }
   }
  },
  {
   "cell_type": "code",
   "execution_count": 8,
   "outputs": [
    {
     "name": "stdout",
     "output_type": "stream",
     "text": [
      "Original        ==> RegEx           Porter          Lancaster       \n",
      "It              ==> It              it              it             \n",
      "is              ==> i               is              is             \n",
      "one             ==> one             one             on             \n",
      "thing           ==> th              thing           thing          \n",
      "to              ==> to              to              to             \n",
      "automatically   ==> automatically   automat         autom          \n",
      "detect          ==> detect          detect          detect         \n",
      "that            ==> that            that            that           \n",
      "a               ==> a               a               a              \n",
      "particular      ==> particular      particular      particul       \n",
      "word            ==> word            word            word           \n",
      "occurs          ==> occur           occur           occ            \n",
      "in              ==> in              in              in             \n",
      "a               ==> a               a               a              \n",
      "text            ==> text            text            text           \n",
      "and             ==> and             and             and            \n",
      "to              ==> to              to              to             \n",
      "display         ==> display         display         display        \n",
      "some            ==> some            some            som            \n",
      "words           ==> word            word            word           \n",
      "that            ==> that            that            that           \n",
      "appear          ==> appear          appear          appear         \n",
      "in              ==> in              in              in             \n",
      "the             ==> the             the             the            \n",
      "same            ==> same            same            sam            \n",
      "context         ==> context         context         context        \n",
      "However         ==> Howev           howev           howev          \n",
      "we              ==> we              we              we             \n",
      "can             ==> can             can             can            \n",
      "also            ==> also            also            also           \n",
      "determine       ==> determine       determin        determin       \n",
      "the             ==> the             the             the            \n",
      "location        ==> location        locat           loc            \n",
      "of              ==> of              of              of             \n",
      "a               ==> a               a               a              \n",
      "word            ==> word            word            word           \n",
      "in              ==> in              in              in             \n",
      "the             ==> the             the             the            \n",
      "text            ==> text            text            text           \n",
      "how             ==> how             how             how            \n",
      "many            ==> many            mani            many           \n",
      "words           ==> word            word            word           \n",
      "from            ==> from            from            from           \n",
      "the             ==> the             the             the            \n",
      "beginning       ==> beginn          begin           begin          \n",
      "it              ==> it              it              it             \n",
      "appears         ==> appear          appear          appear         \n",
      "This            ==> Thi             thi             thi            \n",
      "positional      ==> positional      posit           posit          \n",
      "information     ==> information     inform          inform         \n",
      "can             ==> can             can             can            \n",
      "be              ==> be              be              be             \n",
      "displayed       ==> display         display         display        \n",
      "using           ==> us              use             us             \n",
      "a               ==> a               a               a              \n",
      "dispersion      ==> dispersion      dispers         dispers        \n",
      "plot            ==> plot            plot            plot           \n",
      "Each            ==> Each            each            each           \n",
      "stripe          ==> stripe          stripe          stripe         \n",
      "represents      ==> represent       repres          repres         \n",
      "an              ==> an              an              an             \n",
      "instance        ==> instance        instanc         inst           \n",
      "of              ==> of              of              of             \n",
      "a               ==> a               a               a              \n",
      "word            ==> word            word            word           \n",
      "and             ==> and             and             and            \n",
      "each            ==> each            each            each           \n",
      "row             ==> row             row             row            \n",
      "represents      ==> represent       repres          repres         \n",
      "the             ==> the             the             the            \n",
      "entire          ==> entire          entir           entir          \n",
      "text            ==> text            text            text           \n"
     ]
    }
   ],
   "source": [
    "# comparing the results side by side\n",
    "print(f\"{'Original'.ljust(15)} ==> {'RegEx'.ljust(15)} {'Porter'.ljust(15)} {'Lancaster'.ljust(15)} \")\n",
    "for word in words_blob:\n",
    "    print(f'{word.ljust(15)} ==> {re.sub(suffixes, \"\", word).ljust(15)} {p.stem(word).ljust(15)} {l.stem(word).ljust(15)}')"
   ],
   "metadata": {
    "collapsed": false,
    "pycharm": {
     "name": "#%%\n"
    }
   }
  },
  {
   "cell_type": "markdown",
   "source": [
    "It is better to use Porter Stemmer. As RegEx has some limitations in finding the inflectional morphology in words, for example `positional`, `information`, `represent`. On the other hand Lancaster Stemmer sometimes over-stem the words until it had no meaning, like `occurs` turned to `occ`, `location` turned to `loc`. Porter Stemmer is the best performing stemmer despite it having some errors in the stemming, which is unavoidable. "
   ],
   "metadata": {
    "collapsed": false,
    "pycharm": {
     "name": "#%% md\n"
    }
   }
  }
 ],
 "metadata": {
  "kernelspec": {
   "display_name": "Python 3",
   "language": "python",
   "name": "python3"
  },
  "language_info": {
   "codemirror_mode": {
    "name": "ipython",
    "version": 2
   },
   "file_extension": ".py",
   "mimetype": "text/x-python",
   "name": "python",
   "nbconvert_exporter": "python",
   "pygments_lexer": "ipython2",
   "version": "2.7.6"
  }
 },
 "nbformat": 4,
 "nbformat_minor": 0
}