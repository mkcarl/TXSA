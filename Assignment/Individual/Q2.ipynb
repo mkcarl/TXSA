{
 "cells": [
  {
   "cell_type": "markdown",
   "source": [
    "# Question 2\n",
    "\n",
    "using Data_1.txt"
   ],
   "metadata": {
    "collapsed": false,
    "pycharm": {
     "name": "#%% md\n"
    }
   }
  },
  {
   "cell_type": "markdown",
   "source": [
    "## Explain the importance of stemming in text analytics"
   ],
   "metadata": {
    "collapsed": false,
    "pycharm": {
     "name": "#%% md\n"
    }
   }
  },
  {
   "cell_type": "markdown",
   "source": [
    "In terms of the English language, words often can take many form other than its base form. In English Grammar, a word is morphed through inflectional morphology depending on the sentence structure. However, the base word and the inflected words have the same meaning, just used in different context as in past tense and present tense. Therefore, stemming is important to reduce the inflected words into its base form, to normalize the text into a standard form irrespective of their inflected form. This process may help in information retrieval systems like search engines such that the system is able to return relevant and comparable results.\n",
    "\n",
    "https://towardsdatascience.com/stemming-vs-lemmatization-in-nlp-dea008600a0\n",
    "https://www.analyticsvidhya.com/blog/2021/11/an-introduction-to-stemming-in-natural-language-processing/"
   ],
   "metadata": {
    "collapsed": false,
    "pycharm": {
     "name": "#%% md\n"
    }
   }
  },
  {
   "cell_type": "code",
   "execution_count": 1,
   "outputs": [
    {
     "name": "stdout",
     "output_type": "stream",
     "text": [
      "It is one thing to automatically detect that a particular word occurs in a text, and to\n",
      "display some words that appear in the same context. However, we can also determine\n",
      "the location of a word in the text: how many words from the beginning it appears. This\n",
      "positional information can be displayed using a dispersion plot. Each stripe represents\n",
      "an instance of a word, and each row represents the entire text.\n"
     ]
    },
    {
     "data": {
      "text/plain": "WordList(['It', 'is', 'one', 'thing', 'to', 'automatically', 'detect', 'that', 'a', 'particular', 'word', 'occurs', 'in', 'a', 'text', 'and', 'to', 'display', 'some', 'words', 'that', 'appear', 'in', 'the', 'same', 'context', 'However', 'we', 'can', 'also', 'determine', 'the', 'location', 'of', 'a', 'word', 'in', 'the', 'text', 'how', 'many', 'words', 'from', 'the', 'beginning', 'it', 'appears', 'This', 'positional', 'information', 'can', 'be', 'displayed', 'using', 'a', 'dispersion', 'plot', 'Each', 'stripe', 'represents', 'an', 'instance', 'of', 'a', 'word', 'and', 'each', 'row', 'represents', 'the', 'entire', 'text'])"
     },
     "execution_count": 1,
     "metadata": {},
     "output_type": "execute_result"
    }
   ],
   "source": [
    "with open(\"Data_1.txt\", 'r') as f:\n",
    "    data = f.read()\n",
    "print(data)\n",
    "\n",
    "from textblob import TextBlob\n",
    "blob = TextBlob(data)\n",
    "words_blob = blob.words\n",
    "words_blob"
   ],
   "metadata": {
    "collapsed": false,
    "pycharm": {
     "name": "#%%\n"
    }
   }
  },
  {
   "cell_type": "markdown",
   "source": [
    "## Demonstrate word stemming using Regular Expression, Porter Stemmer and Lancaster Stemmer and report the output"
   ],
   "metadata": {
    "collapsed": false,
    "pycharm": {
     "name": "#%% md\n"
    }
   }
  },
  {
   "cell_type": "markdown",
   "source": [
    "### Using RegEx"
   ],
   "metadata": {
    "collapsed": false,
    "pycharm": {
     "name": "#%% md\n"
    }
   }
  },
  {
   "cell_type": "code",
   "execution_count": 8,
   "outputs": [
    {
     "name": "stdout",
     "output_type": "stream",
     "text": [
      "It              ==> It\n",
      "is              ==> i\n",
      "one             ==> one\n",
      "thing           ==> th\n",
      "to              ==> to\n",
      "automatically   ==> automatically\n",
      "detect          ==> detect\n",
      "that            ==> that\n",
      "a               ==> a\n",
      "particular      ==> particular\n",
      "word            ==> word\n",
      "occurs          ==> occur\n",
      "in              ==> in\n",
      "a               ==> a\n",
      "text            ==> text\n",
      "and             ==> and\n",
      "to              ==> to\n",
      "display         ==> display\n",
      "some            ==> some\n",
      "words           ==> word\n",
      "that            ==> that\n",
      "appear          ==> appear\n",
      "in              ==> in\n",
      "the             ==> the\n",
      "same            ==> same\n",
      "context         ==> context\n",
      "However         ==> Howev\n",
      "we              ==> we\n",
      "can             ==> can\n",
      "also            ==> also\n",
      "determine       ==> determine\n",
      "the             ==> the\n",
      "location        ==> location\n",
      "of              ==> of\n",
      "a               ==> a\n",
      "word            ==> word\n",
      "in              ==> in\n",
      "the             ==> the\n",
      "text            ==> text\n",
      "how             ==> how\n",
      "many            ==> many\n",
      "words           ==> word\n",
      "from            ==> from\n",
      "the             ==> the\n",
      "beginning       ==> beginn\n",
      "it              ==> it\n",
      "appears         ==> appear\n",
      "This            ==> Thi\n",
      "positional      ==> positional\n",
      "information     ==> information\n",
      "can             ==> can\n",
      "be              ==> be\n",
      "displayed       ==> display\n",
      "using           ==> us\n",
      "a               ==> a\n",
      "dispersion      ==> dispersion\n",
      "plot            ==> plot\n",
      "Each            ==> Each\n",
      "stripe          ==> stripe\n",
      "represents      ==> represent\n",
      "an              ==> an\n",
      "instance        ==> instance\n",
      "of              ==> of\n",
      "a               ==> a\n",
      "word            ==> word\n",
      "and             ==> and\n",
      "each            ==> each\n",
      "row             ==> row\n",
      "represents      ==> represent\n",
      "the             ==> the\n",
      "entire          ==> entire\n",
      "text            ==> text\n"
     ]
    }
   ],
   "source": [
    "import re\n",
    "\n",
    "# Defining the affixes\n",
    "# s\n",
    "# s'\n",
    "# 's\n",
    "# ed\n",
    "# ing\n",
    "# en\n",
    "# er\n",
    "# est\n",
    "\n",
    "# translating it into RegEx exp\n",
    "suffixes = r\"s$|s'$|'s$|ed$|ing$|en$|er$|est$\"\n",
    "for word in words_blob:\n",
    "    stem = re.sub(suffixes, '', word)\n",
    "    print(f'{word.ljust(15)} ==> {stem}')\n"
   ],
   "metadata": {
    "collapsed": false,
    "pycharm": {
     "name": "#%%\n"
    }
   }
  },
  {
   "cell_type": "markdown",
   "source": [
    "report the output..."
   ],
   "metadata": {
    "collapsed": false,
    "pycharm": {
     "name": "#%% md\n"
    }
   }
  },
  {
   "cell_type": "code",
   "execution_count": null,
   "outputs": [],
   "source": [],
   "metadata": {
    "collapsed": false,
    "pycharm": {
     "name": "#%%\n"
    }
   }
  }
 ],
 "metadata": {
  "kernelspec": {
   "display_name": "Python 3",
   "language": "python",
   "name": "python3"
  },
  "language_info": {
   "codemirror_mode": {
    "name": "ipython",
    "version": 2
   },
   "file_extension": ".py",
   "mimetype": "text/x-python",
   "name": "python",
   "nbconvert_exporter": "python",
   "pygments_lexer": "ipython2",
   "version": "2.7.6"
  }
 },
 "nbformat": 4,
 "nbformat_minor": 0
}