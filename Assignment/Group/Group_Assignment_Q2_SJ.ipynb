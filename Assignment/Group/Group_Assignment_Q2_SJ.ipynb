{
 "nbformat": 4,
 "nbformat_minor": 0,
 "metadata": {
  "colab": {
   "provenance": []
  },
  "kernelspec": {
   "name": "python3",
   "display_name": "Python 3"
  },
  "language_info": {
   "name": "python"
  }
 },
 "cells": [
  {
   "cell_type": "markdown",
   "source": [
    " **Question 2: Bigram Language Model**"
   ],
   "metadata": {
    "id": "zc0l_xb7O6uB",
    "pycharm": {
     "name": "#%% md\n"
    }
   }
  },
  {
   "cell_type": "code",
   "execution_count": null,
   "metadata": {
    "id": "CTRxly52Pj70",
    "pycharm": {
     "name": "#%%\n"
    }
   },
   "outputs": [],
   "source": [
    "#import package\n",
    "import nltk\n",
    "import pandas as pd\n",
    "from copy import deepcopy"
   ]
  },
  {
   "cell_type": "code",
   "source": [
    "file = open('Text Corpus.txt')\n",
    "data = file.read()\n",
    "print (data)"
   ],
   "metadata": {
    "colab": {
     "base_uri": "https://localhost:8080/"
    },
    "id": "ITVIC3r5QdLc",
    "outputId": "3494c2ae-7266-4ebe-8245-25cf4751b231",
    "pycharm": {
     "name": "#%%\n"
    }
   },
   "execution_count": null,
   "outputs": [
    {
     "output_type": "stream",
     "name": "stdout",
     "text": [
      "<s> He read a book </s>\n",
      "<s> I read a different book </s>\n",
      "<s> He read a book my Danielle </s>\n"
     ]
    }
   ]
  },
  {
   "cell_type": "code",
   "source": [
    "nltk.download('punkt')\n",
    "from nltk.tokenize import sent_tokenize\n",
    "\n",
    "sentences = data.split('\\n')\n",
    "print(\"There are a total of\", len(sentences),\"sentences:\\n\")\n",
    "\n",
    "count = 0\n",
    "\n",
    "#print the sentences\n",
    "for sentence in sentences:\n",
    "  count = count + 1\n",
    "  print(count,\"-\",sentence,\"\\n\")"
   ],
   "metadata": {
    "colab": {
     "base_uri": "https://localhost:8080/"
    },
    "id": "ymy_OQIPQo2_",
    "outputId": "ece050d8-3f41-431e-c5fd-1b28bca04610",
    "pycharm": {
     "name": "#%%\n"
    }
   },
   "execution_count": null,
   "outputs": [
    {
     "output_type": "stream",
     "name": "stderr",
     "text": [
      "[nltk_data] Downloading package punkt to /root/nltk_data...\n",
      "[nltk_data]   Unzipping tokenizers/punkt.zip.\n"
     ]
    },
    {
     "output_type": "stream",
     "name": "stdout",
     "text": [
      "There are a total of 3 sentences:\n",
      "\n",
      "1 - <s> He read a book </s> \n",
      "\n",
      "2 - <s> I read a different book </s> \n",
      "\n",
      "3 - <s> He read a book my Danielle </s> \n",
      "\n"
     ]
    }
   ]
  },
  {
   "cell_type": "code",
   "source": [
    "#Word tokenization\n",
    "from nltk.tokenize import word_tokenize\n",
    "import nltk\n",
    "import re\n",
    "\n",
    "wordTokens = data.split()\n",
    "\n",
    "print (wordTokens)\n",
    "print (\"Number of words:\", len(wordTokens))"
   ],
   "metadata": {
    "colab": {
     "base_uri": "https://localhost:8080/"
    },
    "id": "lvG84EwlRlGn",
    "outputId": "82a3baca-0735-4ca6-b2d6-274ff1652ca9",
    "pycharm": {
     "name": "#%%\n"
    }
   },
   "execution_count": null,
   "outputs": [
    {
     "output_type": "stream",
     "name": "stdout",
     "text": [
      "['<s>', 'He', 'read', 'a', 'book', '</s>', '<s>', 'I', 'read', 'a', 'different', 'book', '</s>', '<s>', 'He', 'read', 'a', 'book', 'my', 'Danielle', '</s>']\n",
      "Number of words: 21\n"
     ]
    }
   ]
  },
  {
   "cell_type": "code",
   "source": [
    "#Unique word list\n",
    "UniqueWords = list(set(wordTokens))\n",
    "\n",
    "UniqueWords.sort()\n",
    "\n",
    "print (\"\\nUnique words in text file:\")\n",
    "\n",
    "for words in UniqueWords:\n",
    "  print (words)\n",
    "\n"
   ],
   "metadata": {
    "colab": {
     "base_uri": "https://localhost:8080/"
    },
    "id": "e3euwjx3TNo1",
    "outputId": "0f55f4d0-5a5f-4b3b-c732-706680f01766",
    "pycharm": {
     "name": "#%%\n"
    }
   },
   "execution_count": null,
   "outputs": [
    {
     "output_type": "stream",
     "name": "stdout",
     "text": [
      "\n",
      "Unique words in text file:\n",
      "</s>\n",
      "<s>\n",
      "Danielle\n",
      "He\n",
      "I\n",
      "a\n",
      "book\n",
      "different\n",
      "my\n",
      "read\n"
     ]
    }
   ]
  },
  {
   "cell_type": "code",
   "source": [
    "def DataFrame(table, ColName = None):\n",
    "  if ColName == None:\n",
    "\n",
    "    columns = list(table.keys())\n",
    "  else:\n",
    "    columns = ColName\n",
    "  \n",
    "  #dataframe with ColName\n",
    "  df = pd.DataFrame (columns = columns)\n",
    "\n",
    "  for key, value in table.items():\n",
    "\n",
    "    df = df.append(pd.Series(value, name = key))\n",
    "\n",
    "  return df"
   ],
   "metadata": {
    "id": "rCs9PvAJSBHO",
    "pycharm": {
     "name": "#%%\n"
    }
   },
   "execution_count": null,
   "outputs": []
  },
  {
   "cell_type": "code",
   "source": [
    "#Unigram dictionary\n",
    "UniCount = {}\n",
    "\n",
    "for word in UniqueWords:\n",
    "  UniCount[word] = wordTokens.count(word)\n",
    "for word, count in UniCount.items():\n",
    "  print(\"{0}: {1}\".format(word,count))"
   ],
   "metadata": {
    "colab": {
     "base_uri": "https://localhost:8080/"
    },
    "id": "0ml8bPOLCEph",
    "outputId": "bdc10913-7376-41ae-e10a-8e2c824d799a",
    "pycharm": {
     "name": "#%%\n"
    }
   },
   "execution_count": null,
   "outputs": [
    {
     "output_type": "stream",
     "name": "stdout",
     "text": [
      "</s>: 3\n",
      "<s>: 3\n",
      "Danielle: 1\n",
      "He: 2\n",
      "I: 1\n",
      "a: 3\n",
      "book: 3\n",
      "different: 1\n",
      "my: 1\n",
      "read: 3\n"
     ]
    }
   ]
  },
  {
   "cell_type": "code",
   "source": [
    "#Bigram dictionary\n",
    "BiCount = {}\n",
    "\n",
    "for word in UniqueWords:\n",
    "  BiCount[word] = {x:0 for x in UniqueWords}\n",
    "\n",
    "for sentence in sentences:\n",
    "  SentenceToken = sentence.split(' ')\n",
    "\n",
    "  for m in range(len(SentenceToken)-1):\n",
    "\n",
    "    BiCount[SentenceToken[m]][SentenceToken[m+1]]+= 1\n",
    "\n",
    "print(\"Bigram Count Table:\")\n",
    "\n",
    "BiCount_Table = DataFrame(BiCount)\n",
    "\n",
    "print (BiCount_Table)"
   ],
   "metadata": {
    "colab": {
     "base_uri": "https://localhost:8080/"
    },
    "id": "pUp1NcTyS2Vg",
    "outputId": "c000b117-0338-4799-f6bf-50f0f0e7069a",
    "pycharm": {
     "name": "#%%\n"
    }
   },
   "execution_count": null,
   "outputs": [
    {
     "output_type": "stream",
     "name": "stdout",
     "text": [
      "Bigram Count Table:\n",
      "          </s> <s> Danielle He  I  a book different my read\n",
      "</s>         0   0        0  0  0  0    0         0  0    0\n",
      "<s>          0   0        0  2  1  0    0         0  0    0\n",
      "Danielle     1   0        0  0  0  0    0         0  0    0\n",
      "He           0   0        0  0  0  0    0         0  0    2\n",
      "I            0   0        0  0  0  0    0         0  0    1\n",
      "a            0   0        0  0  0  0    2         1  0    0\n",
      "book         2   0        0  0  0  0    0         0  1    0\n",
      "different    0   0        0  0  0  0    1         0  0    0\n",
      "my           0   0        1  0  0  0    0         0  0    0\n",
      "read         0   0        0  0  0  3    0         0  0    0\n"
     ]
    }
   ]
  },
  {
   "cell_type": "code",
   "source": [
    "#Unsmoothed bigram probabilites:\n",
    "\n",
    "BiProbability = deepcopy(BiCount)\n",
    "\n",
    "counter = 0\n",
    "\n",
    "for a,b in BiCount.items():\n",
    "  for y,z in b.items():\n",
    "\n",
    "    #only probability higher than 0 will be counted\n",
    "    if z!=0:\n",
    "\n",
    "      counter = counter + 1\n",
    "\n",
    "      #Probability of bigram\n",
    "      BiProbability[a][y] = float(z)/UniCount[a]\n",
    "\n",
    "print (\"Number of Bigram: {0} \\n\".format(counter))\n",
    "\n",
    "print (\"Bigram Probability: \\n\")\n",
    "\n",
    "#displaying probability for the combinations existed\n",
    "for a,b in BiProbability.items():\n",
    "  for y,z in b.items():\n",
    "    print (\"P({0}|{1}) = {2}\".format(y,a,z))\n",
    "  print(\"\")"
   ],
   "metadata": {
    "id": "4_I7qnfKT10A",
    "colab": {
     "base_uri": "https://localhost:8080/"
    },
    "outputId": "6fd56195-5ab8-4bec-8986-1795b4dac742",
    "pycharm": {
     "name": "#%%\n"
    }
   },
   "execution_count": null,
   "outputs": [
    {
     "output_type": "stream",
     "name": "stdout",
     "text": [
      "Number of Bigram: 12 \n",
      "\n",
      "Bigram Probability: \n",
      "\n",
      "P(</s>|</s>) = 0\n",
      "P(<s>|</s>) = 0\n",
      "P(Danielle|</s>) = 0\n",
      "P(He|</s>) = 0\n",
      "P(I|</s>) = 0\n",
      "P(a|</s>) = 0\n",
      "P(book|</s>) = 0\n",
      "P(different|</s>) = 0\n",
      "P(my|</s>) = 0\n",
      "P(read|</s>) = 0\n",
      "\n",
      "P(</s>|<s>) = 0\n",
      "P(<s>|<s>) = 0\n",
      "P(Danielle|<s>) = 0\n",
      "P(He|<s>) = 0.6666666666666666\n",
      "P(I|<s>) = 0.3333333333333333\n",
      "P(a|<s>) = 0\n",
      "P(book|<s>) = 0\n",
      "P(different|<s>) = 0\n",
      "P(my|<s>) = 0\n",
      "P(read|<s>) = 0\n",
      "\n",
      "P(</s>|Danielle) = 1.0\n",
      "P(<s>|Danielle) = 0\n",
      "P(Danielle|Danielle) = 0\n",
      "P(He|Danielle) = 0\n",
      "P(I|Danielle) = 0\n",
      "P(a|Danielle) = 0\n",
      "P(book|Danielle) = 0\n",
      "P(different|Danielle) = 0\n",
      "P(my|Danielle) = 0\n",
      "P(read|Danielle) = 0\n",
      "\n",
      "P(</s>|He) = 0\n",
      "P(<s>|He) = 0\n",
      "P(Danielle|He) = 0\n",
      "P(He|He) = 0\n",
      "P(I|He) = 0\n",
      "P(a|He) = 0\n",
      "P(book|He) = 0\n",
      "P(different|He) = 0\n",
      "P(my|He) = 0\n",
      "P(read|He) = 1.0\n",
      "\n",
      "P(</s>|I) = 0\n",
      "P(<s>|I) = 0\n",
      "P(Danielle|I) = 0\n",
      "P(He|I) = 0\n",
      "P(I|I) = 0\n",
      "P(a|I) = 0\n",
      "P(book|I) = 0\n",
      "P(different|I) = 0\n",
      "P(my|I) = 0\n",
      "P(read|I) = 1.0\n",
      "\n",
      "P(</s>|a) = 0\n",
      "P(<s>|a) = 0\n",
      "P(Danielle|a) = 0\n",
      "P(He|a) = 0\n",
      "P(I|a) = 0\n",
      "P(a|a) = 0\n",
      "P(book|a) = 0.6666666666666666\n",
      "P(different|a) = 0.3333333333333333\n",
      "P(my|a) = 0\n",
      "P(read|a) = 0\n",
      "\n",
      "P(</s>|book) = 0.6666666666666666\n",
      "P(<s>|book) = 0\n",
      "P(Danielle|book) = 0\n",
      "P(He|book) = 0\n",
      "P(I|book) = 0\n",
      "P(a|book) = 0\n",
      "P(book|book) = 0\n",
      "P(different|book) = 0\n",
      "P(my|book) = 0.3333333333333333\n",
      "P(read|book) = 0\n",
      "\n",
      "P(</s>|different) = 0\n",
      "P(<s>|different) = 0\n",
      "P(Danielle|different) = 0\n",
      "P(He|different) = 0\n",
      "P(I|different) = 0\n",
      "P(a|different) = 0\n",
      "P(book|different) = 1.0\n",
      "P(different|different) = 0\n",
      "P(my|different) = 0\n",
      "P(read|different) = 0\n",
      "\n",
      "P(</s>|my) = 0\n",
      "P(<s>|my) = 0\n",
      "P(Danielle|my) = 1.0\n",
      "P(He|my) = 0\n",
      "P(I|my) = 0\n",
      "P(a|my) = 0\n",
      "P(book|my) = 0\n",
      "P(different|my) = 0\n",
      "P(my|my) = 0\n",
      "P(read|my) = 0\n",
      "\n",
      "P(</s>|read) = 0\n",
      "P(<s>|read) = 0\n",
      "P(Danielle|read) = 0\n",
      "P(He|read) = 0\n",
      "P(I|read) = 0\n",
      "P(a|read) = 1.0\n",
      "P(book|read) = 0\n",
      "P(different|read) = 0\n",
      "P(my|read) = 0\n",
      "P(read|read) = 0\n",
      "\n"
     ]
    }
   ]
  },
  {
   "cell_type": "code",
   "source": [
    "#Summary of Unsmoothed Bigram Probability\n",
    "unsmoothedBiProbability = DataFrame (BiProbability)\n",
    "print (\"UnSmoothed Bigram Probability\")\n",
    "print (unsmoothedBiProbability)"
   ],
   "metadata": {
    "colab": {
     "base_uri": "https://localhost:8080/"
    },
    "id": "ho2WaxidFu8o",
    "outputId": "aea7d9ca-b3d2-4126-963e-ab9b8711ec80",
    "pycharm": {
     "name": "#%%\n"
    }
   },
   "execution_count": null,
   "outputs": [
    {
     "output_type": "stream",
     "name": "stdout",
     "text": [
      "UnSmoothed Bigram Probability\n",
      "               </s>  <s> Danielle        He         I    a      book  \\\n",
      "</s>              0    0        0         0         0    0         0   \n",
      "<s>             0.0  0.0      0.0  0.666667  0.333333  0.0       0.0   \n",
      "Danielle        1.0  0.0      0.0       0.0       0.0  0.0       0.0   \n",
      "He              0.0  0.0      0.0       0.0       0.0  0.0       0.0   \n",
      "I               0.0  0.0      0.0       0.0       0.0  0.0       0.0   \n",
      "a               0.0  0.0      0.0       0.0       0.0  0.0  0.666667   \n",
      "book       0.666667  0.0      0.0       0.0       0.0  0.0       0.0   \n",
      "different       0.0  0.0      0.0       0.0       0.0  0.0       1.0   \n",
      "my              0.0  0.0      1.0       0.0       0.0  0.0       0.0   \n",
      "read            0.0  0.0      0.0       0.0       0.0  1.0       0.0   \n",
      "\n",
      "          different        my read  \n",
      "</s>              0         0    0  \n",
      "<s>             0.0       0.0  0.0  \n",
      "Danielle        0.0       0.0  0.0  \n",
      "He              0.0       0.0  1.0  \n",
      "I               0.0       0.0  1.0  \n",
      "a          0.333333       0.0  0.0  \n",
      "book            0.0  0.333333  0.0  \n",
      "different       0.0       0.0  0.0  \n",
      "my              0.0       0.0  0.0  \n",
      "read            0.0       0.0  0.0  \n"
     ]
    }
   ]
  },
  {
   "cell_type": "code",
   "source": [
    "#Smoothed Bigram Probability:\n",
    "\n",
    "#Bigram count dictionary\n",
    "SmoothBiProbability = deepcopy (BiCount)\n",
    "\n",
    "for a,b in BiCount.items():\n",
    "  for y,z in b.items():\n",
    "\n",
    "    #count smoothed bigram probability (<UNK> will be added)\n",
    "    SmoothBiProbability[a][y] = (float(z)+1)/ (UniCount[a] + len(UniqueWords) + 1)\n",
    "\n",
    "print (\"Smoothed Bigram Probability: \\n\")\n",
    "\n",
    "#displaying probability for the combinations existed\n",
    "for a,b in SmoothBiProbability.items():\n",
    "  for y,z in b.items():\n",
    "    print (\"P({0}|{1}) = {2}\".format(y,a,z))\n",
    "    \n",
    "  print(\"\")"
   ],
   "metadata": {
    "colab": {
     "base_uri": "https://localhost:8080/"
    },
    "id": "9gS-QojNLbd7",
    "outputId": "52e03cd2-fd6b-4a32-92a1-4c9905db5dfa",
    "pycharm": {
     "name": "#%%\n"
    }
   },
   "execution_count": null,
   "outputs": [
    {
     "output_type": "stream",
     "name": "stdout",
     "text": [
      "Smoothed Bigram Probability: \n",
      "\n",
      "P(</s>|</s>) = 0.07142857142857142\n",
      "P(<s>|</s>) = 0.07142857142857142\n",
      "P(Danielle|</s>) = 0.07142857142857142\n",
      "P(He|</s>) = 0.07142857142857142\n",
      "P(I|</s>) = 0.07142857142857142\n",
      "P(a|</s>) = 0.07142857142857142\n",
      "P(book|</s>) = 0.07142857142857142\n",
      "P(different|</s>) = 0.07142857142857142\n",
      "P(my|</s>) = 0.07142857142857142\n",
      "P(read|</s>) = 0.07142857142857142\n",
      "\n",
      "P(</s>|<s>) = 0.07142857142857142\n",
      "P(<s>|<s>) = 0.07142857142857142\n",
      "P(Danielle|<s>) = 0.07142857142857142\n",
      "P(He|<s>) = 0.21428571428571427\n",
      "P(I|<s>) = 0.14285714285714285\n",
      "P(a|<s>) = 0.07142857142857142\n",
      "P(book|<s>) = 0.07142857142857142\n",
      "P(different|<s>) = 0.07142857142857142\n",
      "P(my|<s>) = 0.07142857142857142\n",
      "P(read|<s>) = 0.07142857142857142\n",
      "\n",
      "P(</s>|Danielle) = 0.16666666666666666\n",
      "P(<s>|Danielle) = 0.08333333333333333\n",
      "P(Danielle|Danielle) = 0.08333333333333333\n",
      "P(He|Danielle) = 0.08333333333333333\n",
      "P(I|Danielle) = 0.08333333333333333\n",
      "P(a|Danielle) = 0.08333333333333333\n",
      "P(book|Danielle) = 0.08333333333333333\n",
      "P(different|Danielle) = 0.08333333333333333\n",
      "P(my|Danielle) = 0.08333333333333333\n",
      "P(read|Danielle) = 0.08333333333333333\n",
      "\n",
      "P(</s>|He) = 0.07692307692307693\n",
      "P(<s>|He) = 0.07692307692307693\n",
      "P(Danielle|He) = 0.07692307692307693\n",
      "P(He|He) = 0.07692307692307693\n",
      "P(I|He) = 0.07692307692307693\n",
      "P(a|He) = 0.07692307692307693\n",
      "P(book|He) = 0.07692307692307693\n",
      "P(different|He) = 0.07692307692307693\n",
      "P(my|He) = 0.07692307692307693\n",
      "P(read|He) = 0.23076923076923078\n",
      "\n",
      "P(</s>|I) = 0.08333333333333333\n",
      "P(<s>|I) = 0.08333333333333333\n",
      "P(Danielle|I) = 0.08333333333333333\n",
      "P(He|I) = 0.08333333333333333\n",
      "P(I|I) = 0.08333333333333333\n",
      "P(a|I) = 0.08333333333333333\n",
      "P(book|I) = 0.08333333333333333\n",
      "P(different|I) = 0.08333333333333333\n",
      "P(my|I) = 0.08333333333333333\n",
      "P(read|I) = 0.16666666666666666\n",
      "\n",
      "P(</s>|a) = 0.07142857142857142\n",
      "P(<s>|a) = 0.07142857142857142\n",
      "P(Danielle|a) = 0.07142857142857142\n",
      "P(He|a) = 0.07142857142857142\n",
      "P(I|a) = 0.07142857142857142\n",
      "P(a|a) = 0.07142857142857142\n",
      "P(book|a) = 0.21428571428571427\n",
      "P(different|a) = 0.14285714285714285\n",
      "P(my|a) = 0.07142857142857142\n",
      "P(read|a) = 0.07142857142857142\n",
      "\n",
      "P(</s>|book) = 0.21428571428571427\n",
      "P(<s>|book) = 0.07142857142857142\n",
      "P(Danielle|book) = 0.07142857142857142\n",
      "P(He|book) = 0.07142857142857142\n",
      "P(I|book) = 0.07142857142857142\n",
      "P(a|book) = 0.07142857142857142\n",
      "P(book|book) = 0.07142857142857142\n",
      "P(different|book) = 0.07142857142857142\n",
      "P(my|book) = 0.14285714285714285\n",
      "P(read|book) = 0.07142857142857142\n",
      "\n",
      "P(</s>|different) = 0.08333333333333333\n",
      "P(<s>|different) = 0.08333333333333333\n",
      "P(Danielle|different) = 0.08333333333333333\n",
      "P(He|different) = 0.08333333333333333\n",
      "P(I|different) = 0.08333333333333333\n",
      "P(a|different) = 0.08333333333333333\n",
      "P(book|different) = 0.16666666666666666\n",
      "P(different|different) = 0.08333333333333333\n",
      "P(my|different) = 0.08333333333333333\n",
      "P(read|different) = 0.08333333333333333\n",
      "\n",
      "P(</s>|my) = 0.08333333333333333\n",
      "P(<s>|my) = 0.08333333333333333\n",
      "P(Danielle|my) = 0.16666666666666666\n",
      "P(He|my) = 0.08333333333333333\n",
      "P(I|my) = 0.08333333333333333\n",
      "P(a|my) = 0.08333333333333333\n",
      "P(book|my) = 0.08333333333333333\n",
      "P(different|my) = 0.08333333333333333\n",
      "P(my|my) = 0.08333333333333333\n",
      "P(read|my) = 0.08333333333333333\n",
      "\n",
      "P(</s>|read) = 0.07142857142857142\n",
      "P(<s>|read) = 0.07142857142857142\n",
      "P(Danielle|read) = 0.07142857142857142\n",
      "P(He|read) = 0.07142857142857142\n",
      "P(I|read) = 0.07142857142857142\n",
      "P(a|read) = 0.2857142857142857\n",
      "P(book|read) = 0.07142857142857142\n",
      "P(different|read) = 0.07142857142857142\n",
      "P(my|read) = 0.07142857142857142\n",
      "P(read|read) = 0.07142857142857142\n",
      "\n"
     ]
    }
   ]
  },
  {
   "cell_type": "code",
   "source": [
    "#Summary of Smoothed Bigram Probability\n",
    "smoothedBiProbability = DataFrame (SmoothBiProbability)\n",
    "print (\"Smoothed Bigram Probability\")\n",
    "print (smoothedBiProbability)"
   ],
   "metadata": {
    "colab": {
     "base_uri": "https://localhost:8080/"
    },
    "id": "OLeYcLaXL7f6",
    "outputId": "e7bb49cd-bcd2-487f-ad0e-d7583930aaec",
    "pycharm": {
     "name": "#%%\n"
    }
   },
   "execution_count": null,
   "outputs": [
    {
     "output_type": "stream",
     "name": "stdout",
     "text": [
      "Smoothed Bigram Probability\n",
      "               </s>       <s>  Danielle        He         I         a  \\\n",
      "</s>       0.071429  0.071429  0.071429  0.071429  0.071429  0.071429   \n",
      "<s>        0.071429  0.071429  0.071429  0.214286  0.142857  0.071429   \n",
      "Danielle   0.166667  0.083333  0.083333  0.083333  0.083333  0.083333   \n",
      "He         0.076923  0.076923  0.076923  0.076923  0.076923  0.076923   \n",
      "I          0.083333  0.083333  0.083333  0.083333  0.083333  0.083333   \n",
      "a          0.071429  0.071429  0.071429  0.071429  0.071429  0.071429   \n",
      "book       0.214286  0.071429  0.071429  0.071429  0.071429  0.071429   \n",
      "different  0.083333  0.083333  0.083333  0.083333  0.083333  0.083333   \n",
      "my         0.083333  0.083333  0.166667  0.083333  0.083333  0.083333   \n",
      "read       0.071429  0.071429  0.071429  0.071429  0.071429  0.285714   \n",
      "\n",
      "               book  different        my      read  \n",
      "</s>       0.071429   0.071429  0.071429  0.071429  \n",
      "<s>        0.071429   0.071429  0.071429  0.071429  \n",
      "Danielle   0.083333   0.083333  0.083333  0.083333  \n",
      "He         0.076923   0.076923  0.076923  0.230769  \n",
      "I          0.083333   0.083333  0.083333  0.166667  \n",
      "a          0.214286   0.142857  0.071429  0.071429  \n",
      "book       0.071429   0.071429  0.142857  0.071429  \n",
      "different  0.166667   0.083333  0.083333  0.083333  \n",
      "my         0.083333   0.083333  0.083333  0.083333  \n",
      "read       0.071429   0.071429  0.071429  0.071429  \n"
     ]
    }
   ]
  }
 ]
}