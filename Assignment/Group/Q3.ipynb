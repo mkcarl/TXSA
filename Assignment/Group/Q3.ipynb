{
 "cells": [
  {
   "cell_type": "markdown",
   "source": [
    "# Question 3\n",
    "Implement and report the respective sentence probabilities in python using both unigram and bigram language models."
   ],
   "metadata": {
    "collapsed": false,
    "pycharm": {
     "name": "#%% md\n"
    }
   }
  },
  {
   "cell_type": "markdown",
   "source": [
    "# Justification\n",
    "Bigram is more suitable. This is because there bigram model takes into account the probability of a sequence of words. On the other hand, unigram only takes into account the independant occurence of the word. In natural language, words normally come together to form a meaning, and not only using singular words to express the meaning. The sequence of words also matter as natural language typically defines rules, where \"eat banana\" makes sense but not \"banana eat\"."
   ],
   "metadata": {
    "collapsed": false,
    "pycharm": {
     "name": "#%% md\n"
    }
   }
  },
  {
   "cell_type": "code",
   "execution_count": 2,
   "outputs": [
    {
     "data": {
      "text/plain": "['<s> He read a book </s>',\n '<s> I read a different book </s>',\n '<s> He read a book my Danielle </s>']"
     },
     "execution_count": 2,
     "metadata": {},
     "output_type": "execute_result"
    }
   ],
   "source": [
    "from nltk.tokenize import sent_tokenize\n",
    "import re\n",
    "with open(\"Text Corpus.txt\") as f:\n",
    "    data = f.read()\n",
    "sentences = data.split('\\n')\n",
    "sentences"
   ],
   "metadata": {
    "collapsed": false,
    "pycharm": {
     "name": "#%%\n"
    }
   }
  },
  {
   "cell_type": "code",
   "execution_count": 6,
   "outputs": [
    {
     "name": "stdout",
     "output_type": "stream",
     "text": [
      "P(He) * P(read) * P(a) * P(book) * \n",
      "\n",
      "\n",
      "\n",
      "P(I) * P(read) * P(a) * P(different) * P(book) * \n",
      "\n",
      "\n",
      "\n",
      "P(He) * P(read) * P(a) * P(book) * P(my) * P(Danielle) * \n",
      "\n",
      "\n",
      "\n"
     ]
    }
   ],
   "source": [
    "from nltk.tokenize import word_tokenize\n",
    "\n",
    "for s in sentences:\n",
    "    final =''\n",
    "    for w in s.split(' '):\n",
    "        if w == '<s>' or w == '</s>':\n",
    "            continue\n",
    "        final += f'P({w}) * '\n",
    "    final += '\\n\\n\\n'\n",
    "    print(final)"
   ],
   "metadata": {
    "collapsed": false,
    "pycharm": {
     "name": "#%%\n"
    }
   }
  },
  {
   "cell_type": "code",
   "execution_count": 13,
   "outputs": [
    {
     "name": "stdout",
     "output_type": "stream",
     "text": [
      "P(He|<s>) * P(read|He) * P(a|read) * P(book|a) * P(</s>|book) * \n",
      "\n",
      "P(I|<s>) * P(read|I) * P(a|read) * P(different|a) * P(book|different) * P(</s>|book) * \n",
      "\n",
      "P(He|<s>) * P(read|He) * P(a|read) * P(book|a) * P(my|book) * P(Danielle|my) * P(</s>|Danielle) * \n",
      "\n"
     ]
    }
   ],
   "source": [
    "from nltk.util import bigrams\n",
    "\n",
    "for s in sentences:\n",
    "    bi = bigrams(s.split(' '))\n",
    "    final = ''\n",
    "    for b in bi:\n",
    "        final += f'P({b[1]}|{b[0]}) * '\n",
    "    final += '\\n'\n",
    "    print(final)"
   ],
   "metadata": {
    "collapsed": false,
    "pycharm": {
     "name": "#%%\n"
    }
   }
  },
  {
   "cell_type": "code",
   "execution_count": 32,
   "outputs": [],
   "source": [
    "def unigram_probability(sentence, probabilities):\n",
    "    final_prob = 1\n",
    "    for word in sentence.split(' '):\n",
    "        if word == \"<s>\" or word == \"</s>\":\n",
    "            continue\n",
    "        final_prob *= probabilities[word]\n",
    "    return final_prob\n",
    "\n",
    "def bigram_probability(sentence, probabilities):\n",
    "    final_prob = 1\n",
    "    for word in bigrams(sentence.split(' ')):\n",
    "        final_prob *= probabilities[word]\n",
    "    return final_prob"
   ],
   "metadata": {
    "collapsed": false,
    "pycharm": {
     "name": "#%%\n"
    }
   }
  },
  {
   "cell_type": "code",
   "execution_count": 25,
   "outputs": [
    {
     "name": "stdout",
     "output_type": "stream",
     "text": [
      "{'He': 2, 'read': 3, 'a': 3, 'book': 3, 'I': 1, 'different': 1, 'my': 1, 'Danielle': 1}\n",
      "{'He': 0.125, 'read': 0.16666666666666666, 'a': 0.16666666666666666, 'book': 0.16666666666666666, 'I': 0.08333333333333333, 'different': 0.08333333333333333, 'my': 0.08333333333333333, 'Danielle': 0.08333333333333333}\n"
     ]
    }
   ],
   "source": [
    "uni_probs = {}\n",
    "uni_count = 0\n",
    "uni_counts = {}\n",
    "for s in sentences:\n",
    "    for word in s.split(' '):\n",
    "        if word == \"<s>\" or word == \"</s>\":\n",
    "            continue\n",
    "        if uni_counts.get(word) is None:\n",
    "            uni_counts[word] = 0\n",
    "        uni_counts[word] += 1\n",
    "        uni_count += 1\n",
    "print(uni_counts)\n",
    "\n",
    "for k,v in uni_counts.items():\n",
    "    uni_probs[k] = (v + 1)/(uni_count + len(uni_counts.keys()) + 1)\n",
    "print(uni_probs)"
   ],
   "metadata": {
    "collapsed": false,
    "pycharm": {
     "name": "#%%\n"
    }
   }
  },
  {
   "cell_type": "code",
   "execution_count": 29,
   "outputs": [
    {
     "name": "stdout",
     "output_type": "stream",
     "text": [
      "{('<s>', 'He'): 0.21428571428571427, ('He', 'read'): 0.23076923076923078, ('read', 'a'): 0.2857142857142857, ('a', 'book'): 0.21428571428571427, ('book', '</s>'): 0.21428571428571427, ('<s>', 'I'): 0.14285714285714285, ('I', 'read'): 0.16666666666666666, ('a', 'different'): 0.14285714285714285, ('different', 'book'): 0.16666666666666666, ('book', 'my'): 0.14285714285714285, ('my', 'Danielle'): 0.16666666666666666, ('Danielle', '</s>'): 0.16666666666666666}\n"
     ]
    }
   ],
   "source": [
    "bi_probs = {}\n",
    "bi_count = 0\n",
    "bi_counts = {}\n",
    "word_counts = {}\n",
    "for s in sentences:\n",
    "    for word in s.split(' '):\n",
    "        if word_counts.get(word) is None:\n",
    "            word_counts[word] = 0\n",
    "        word_counts[word] += 1\n",
    "\n",
    "    for bi in bigrams(s.split(' ')):\n",
    "        if bi_counts.get(bi) is None:\n",
    "            bi_counts[bi] = 0\n",
    "        bi_counts[bi] += 1\n",
    "        bi_count += 1\n",
    "# print(counts)\n",
    "for k,v in bi_counts.items():\n",
    "    bi_probs[k] = (v + 1)/(word_counts[k[0]] + len(word_counts.keys()) + 1)\n",
    "print(bi_probs)"
   ],
   "metadata": {
    "collapsed": false,
    "pycharm": {
     "name": "#%%\n"
    }
   }
  },
  {
   "cell_type": "code",
   "execution_count": 36,
   "outputs": [
    {
     "name": "stdout",
     "output_type": "stream",
     "text": [
      "Sentence : <s> He read a book </s>\n",
      "Unigram sentence probability : 0.0005787\n",
      "Bigram sentence probability : 0.0006488\n",
      "\n",
      "\n",
      "Sentence : <s> I read a different book </s>\n",
      "Unigram sentence probability : 0.0000322\n",
      "Bigram sentence probability : 0.0000347\n",
      "\n",
      "\n",
      "Sentence : <s> He read a book my Danielle </s>\n",
      "Unigram sentence probability : 0.0000040\n",
      "Bigram sentence probability : 0.0000120\n",
      "\n",
      "\n"
     ]
    }
   ],
   "source": [
    "for s in sentences:\n",
    "    print(f\"Sentence : {s}\")\n",
    "    print(f\"Unigram sentence probability : {unigram_probability(s, uni_probs):.07f}\")\n",
    "    print(f\"Bigram sentence probability : {bigram_probability(s, bi_probs):.07f}\")\n",
    "    print('\\n')"
   ],
   "metadata": {
    "collapsed": false,
    "pycharm": {
     "name": "#%%\n"
    }
   }
  },
  {
   "cell_type": "code",
   "execution_count": 41,
   "outputs": [
    {
     "name": "stdout",
     "output_type": "stream",
     "text": [
      "Sentence                                           Smooth Unigram  Smooth Bigram\n",
      "<s> He read a book </s>                                 0.0005787      0.0006488\n",
      "<s> I read a different book </s>                        0.0000322      0.0000347\n",
      "<s> He read a book my Danielle </s>                     0.0000040      0.0000120\n"
     ]
    }
   ],
   "source": [
    "print('Sentence'.ljust(50) + 'Smooth Unigram'.rjust(15) + 'Smooth Bigram'.rjust(15))\n",
    "for s in sentences:\n",
    "    final = ''\n",
    "    final += s.ljust(50)\n",
    "    final += f\"{unigram_probability(s, uni_probs):.07f}\".rjust(15)\n",
    "    final += f\"{bigram_probability(s, bi_probs):.07f}\".rjust(15)\n",
    "    print(final)"
   ],
   "metadata": {
    "collapsed": false,
    "pycharm": {
     "name": "#%%\n"
    }
   }
  }
 ],
 "metadata": {
  "kernelspec": {
   "display_name": "Python 3",
   "language": "python",
   "name": "python3"
  },
  "language_info": {
   "codemirror_mode": {
    "name": "ipython",
    "version": 2
   },
   "file_extension": ".py",
   "mimetype": "text/x-python",
   "name": "python",
   "nbconvert_exporter": "python",
   "pygments_lexer": "ipython2",
   "version": "2.7.6"
  }
 },
 "nbformat": 4,
 "nbformat_minor": 0
}