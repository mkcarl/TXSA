{
 "cells": [
  {
   "cell_type": "markdown",
   "source": [
    "# Question 3\n",
    "Implement unsmoothed and smoothed bigram language models in python and report the output. (12 marks)"
   ],
   "metadata": {
    "collapsed": false,
    "pycharm": {
     "name": "#%% md\n"
    }
   }
  },
  {
   "cell_type": "code",
   "execution_count": 1,
   "outputs": [
    {
     "name": "stdout",
     "output_type": "stream",
     "text": [
      "<s> He read a book </s>\n",
      "<s> I read a different book </s>\n",
      "<s> He read a book my Danielle </s>\n"
     ]
    }
   ],
   "source": [
    "# using \"Text Corpus.txt\"\n",
    "\n",
    "with open(\"Text Corpus.txt\") as f:\n",
    "    data = f.read()\n",
    "\n",
    "print(data)"
   ],
   "metadata": {
    "collapsed": false,
    "pycharm": {
     "name": "#%%\n"
    }
   }
  },
  {
   "cell_type": "markdown",
   "source": [
    "Calculate counts of each word"
   ],
   "metadata": {
    "collapsed": false,
    "pycharm": {
     "name": "#%% md\n"
    }
   }
  },
  {
   "cell_type": "code",
   "execution_count": 2,
   "outputs": [
    {
     "name": "stdout",
     "output_type": "stream",
     "text": [
      "['<s>', 'He', 'read', 'a', 'book', '</s>', '<s>', 'I', 'read', 'a', 'different', 'book', '</s>', '<s>', 'He', 'read', 'a', 'book', 'my', 'Danielle', '</s>']\n"
     ]
    }
   ],
   "source": [
    "import re\n",
    "\n",
    "words = re.split('\\s', data)\n",
    "print(words)"
   ],
   "metadata": {
    "collapsed": false,
    "pycharm": {
     "name": "#%%\n"
    }
   }
  },
  {
   "cell_type": "code",
   "execution_count": 3,
   "outputs": [
    {
     "name": "stdout",
     "output_type": "stream",
     "text": [
      "{'<s>': 3, 'He': 2, 'read': 3, 'a': 3, 'book': 3, '</s>': 3, 'I': 1, 'different': 1, 'my': 1, 'Danielle': 1}\n"
     ]
    }
   ],
   "source": [
    "# calculate the frequency of each word in corpus\n",
    "counts = {}\n",
    "for word in words:\n",
    "    if counts.get(word) is None:\n",
    "        counts[word] = 0\n",
    "    counts[word] += 1\n",
    "print(counts)"
   ],
   "metadata": {
    "collapsed": false,
    "pycharm": {
     "name": "#%%\n"
    }
   }
  },
  {
   "cell_type": "markdown",
   "source": [
    "Calculate count of each bigram"
   ],
   "metadata": {
    "collapsed": false,
    "pycharm": {
     "name": "#%% md\n"
    }
   }
  },
  {
   "cell_type": "code",
   "execution_count": 4,
   "outputs": [
    {
     "name": "stdout",
     "output_type": "stream",
     "text": [
      "{('<s>', 'He'): 2, ('He', 'read'): 2, ('read', 'a'): 3, ('a', 'book'): 2, ('book', '</s>'): 2, ('<s>', 'I'): 1, ('I', 'read'): 1, ('a', 'different'): 1, ('different', 'book'): 1, ('book', 'my'): 1, ('my', 'Danielle'): 1, ('Danielle', '</s>'): 1}\n"
     ]
    }
   ],
   "source": [
    "# calculate frequency of bigram in corpus\n",
    "from nltk.util import bigrams\n",
    "\n",
    "bigram_count = {}\n",
    "sentences = re.split('\\n', data)\n",
    "\n",
    "for s in sentences:\n",
    "    s_words = re.split('\\s', s)\n",
    "    s_bigram = bigrams(s_words)\n",
    "\n",
    "    for b in s_bigram:\n",
    "        if bigram_count.get(b) is None:\n",
    "            bigram_count[b] = 0\n",
    "        bigram_count[b] += 1\n",
    "\n",
    "print(bigram_count)\n"
   ],
   "metadata": {
    "collapsed": false,
    "pycharm": {
     "name": "#%%\n"
    }
   }
  },
  {
   "cell_type": "markdown",
   "source": [
    "calculating unsmooth"
   ],
   "metadata": {
    "collapsed": false,
    "pycharm": {
     "name": "#%% md\n"
    }
   }
  },
  {
   "cell_type": "code",
   "execution_count": 5,
   "outputs": [
    {
     "name": "stdout",
     "output_type": "stream",
     "text": [
      "P(He|<s>) = 0.6666666666666666\n",
      "P(read|He) = 1.0\n",
      "P(a|read) = 1.0\n",
      "P(book|a) = 0.6666666666666666\n",
      "P(</s>|book) = 0.6666666666666666\n",
      "P(I|<s>) = 0.3333333333333333\n",
      "P(read|I) = 1.0\n",
      "P(different|a) = 0.3333333333333333\n",
      "P(book|different) = 1.0\n",
      "P(my|book) = 0.3333333333333333\n",
      "P(Danielle|my) = 1.0\n",
      "P(</s>|Danielle) = 1.0\n"
     ]
    }
   ],
   "source": [
    "\n",
    "for k,v in bigram_count.items():\n",
    "    priori_count = counts[k[0]]\n",
    "\n",
    "    print(f\"P({k[1]}|{k[0]}) = {v/priori_count}\")\n",
    "\n"
   ],
   "metadata": {
    "collapsed": false,
    "pycharm": {
     "name": "#%%\n"
    }
   }
  },
  {
   "cell_type": "markdown",
   "source": [
    "calculating smooth"
   ],
   "metadata": {
    "collapsed": false,
    "pycharm": {
     "name": "#%% md\n"
    }
   }
  },
  {
   "cell_type": "code",
   "execution_count": 6,
   "outputs": [
    {
     "name": "stdout",
     "output_type": "stream",
     "text": [
      "P(He|<s>) = 0.21428571428571427\n",
      "P(read|He) = 0.23076923076923078\n",
      "P(a|read) = 0.2857142857142857\n",
      "P(book|a) = 0.21428571428571427\n",
      "P(</s>|book) = 0.21428571428571427\n",
      "P(I|<s>) = 0.14285714285714285\n",
      "P(read|I) = 0.16666666666666666\n",
      "P(different|a) = 0.14285714285714285\n",
      "P(book|different) = 0.16666666666666666\n",
      "P(my|book) = 0.14285714285714285\n",
      "P(Danielle|my) = 0.16666666666666666\n",
      "P(</s>|Danielle) = 0.16666666666666666\n"
     ]
    }
   ],
   "source": [
    "\n",
    "for k,v in bigram_count.items():\n",
    "    priori_count = counts[k[0]]\n",
    "\n",
    "    print(f\"P({k[1]}|{k[0]}) = {(v + 1) /(priori_count + len(counts) + 1)}\")\n",
    "\n"
   ],
   "metadata": {
    "collapsed": false,
    "pycharm": {
     "name": "#%%\n"
    }
   }
  }
 ],
 "metadata": {
  "kernelspec": {
   "display_name": "Python 3",
   "language": "python",
   "name": "python3"
  },
  "language_info": {
   "codemirror_mode": {
    "name": "ipython",
    "version": 2
   },
   "file_extension": ".py",
   "mimetype": "text/x-python",
   "name": "python",
   "nbconvert_exporter": "python",
   "pygments_lexer": "ipython2",
   "version": "2.7.6"
  }
 },
 "nbformat": 4,
 "nbformat_minor": 0
}