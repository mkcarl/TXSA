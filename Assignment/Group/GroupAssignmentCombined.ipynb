{
 "cells": [
  {
   "cell_type": "markdown",
   "source": [
    "# Question 1\n",
    "Form a unigram language model"
   ],
   "metadata": {
    "collapsed": false,
    "pycharm": {
     "name": "#%% md\n"
    }
   }
  },
  {
   "cell_type": "code",
   "execution_count": 1,
   "outputs": [
    {
     "name": "stdout",
     "output_type": "stream",
     "text": [
      "<s> He read a book </s>\n",
      "<s> I read a different book </s>\n",
      "<s> He read a book my Danielle </s>\n"
     ]
    }
   ],
   "source": [
    "# Read data in text file\n",
    "file = open(\"Text Corpus.txt\")\n",
    "data = file.read()\n",
    "print(data)"
   ],
   "metadata": {
    "collapsed": false,
    "pycharm": {
     "name": "#%%\n"
    }
   }
  },
  {
   "cell_type": "code",
   "execution_count": 2,
   "outputs": [
    {
     "name": "stdout",
     "output_type": "stream",
     "text": [
      "['He', 'read', 'a', 'book', 'I', 'read', 'a', 'different', 'book', 'He', 'read', 'a', 'book', 'my', 'Danielle']\n"
     ]
    }
   ],
   "source": [
    "# Tokenize every word in the data and clean the data\n",
    "tokens = data.split()\n",
    "\n",
    "cleannedTokens = [token for token in tokens if token != \"<s>\"]\n",
    "cleannedTokens = [token for token in cleannedTokens if token != \"</s>\"]\n",
    "print(cleannedTokens)\n",
    "\n",
    "totalToken = len(cleannedTokens)"
   ],
   "metadata": {
    "collapsed": false,
    "pycharm": {
     "name": "#%%\n"
    }
   }
  },
  {
   "cell_type": "code",
   "execution_count": 3,
   "outputs": [
    {
     "name": "stdout",
     "output_type": "stream",
     "text": [
      "['a', 'book', 'read', 'I', 'Danielle', 'my', 'different', 'He']\n"
     ]
    }
   ],
   "source": [
    "# Create a list of unique token from the data\n",
    "uniqueTokens = list(set(cleannedTokens))\n",
    "print(uniqueTokens)\n",
    "\n",
    "totalUniqueToken = len(uniqueTokens)"
   ],
   "metadata": {
    "collapsed": false,
    "pycharm": {
     "name": "#%%\n"
    }
   }
  },
  {
   "cell_type": "code",
   "execution_count": 4,
   "outputs": [],
   "source": [
    "# Frequency for each unique token\n",
    "frequencyResult = \"\"\n",
    "\n",
    "for uniqueToken in uniqueTokens:\n",
    "    frequency = cleannedTokens.count(uniqueToken)\n",
    "    frequencyResult = frequencyResult + \"Count(\" + uniqueToken + \") = \" + str(frequency) + \"\\n\""
   ],
   "metadata": {
    "collapsed": false,
    "pycharm": {
     "name": "#%%\n"
    }
   }
  },
  {
   "cell_type": "code",
   "execution_count": 5,
   "outputs": [],
   "source": [
    "# Unsmoothed Unigram Probabilities\n",
    "unsmoothedResult = \"\"\n",
    "\n",
    "for uniqueToken in uniqueTokens:\n",
    "    probability = cleannedTokens.count(uniqueToken) / totalToken\n",
    "    unsmoothedResult = unsmoothedResult + \"P(\" + uniqueToken + \") = \" + str(probability) + \"\\n\""
   ],
   "metadata": {
    "collapsed": false,
    "pycharm": {
     "name": "#%%\n"
    }
   }
  },
  {
   "cell_type": "code",
   "execution_count": 6,
   "outputs": [],
   "source": [
    "# Smoothed Unigram Probabilities\n",
    "smoothedResult = \"\"\n",
    "uni_probs = {}\n",
    "for uniqueToken in uniqueTokens:\n",
    "    probability = (cleannedTokens.count(uniqueToken) + 1) / (totalToken + totalUniqueToken + 1)\n",
    "    smoothedResult = smoothedResult + \"P(\" + uniqueToken + \") = \" + str(probability) + \"\\n\"\n",
    "    uni_probs[uniqueToken] = probability"
   ],
   "metadata": {
    "collapsed": false,
    "pycharm": {
     "name": "#%%\n"
    }
   }
  },
  {
   "cell_type": "code",
   "execution_count": 7,
   "outputs": [
    {
     "name": "stdout",
     "output_type": "stream",
     "text": [
      "Number of Tokens: 15\n",
      "Number of Unique Tokens: 8\n",
      "\n",
      "Frequency of Tokens:\n",
      "Count(a) = 3\n",
      "Count(book) = 3\n",
      "Count(read) = 3\n",
      "Count(I) = 1\n",
      "Count(Danielle) = 1\n",
      "Count(my) = 1\n",
      "Count(different) = 1\n",
      "Count(He) = 2\n",
      "\n",
      "Unsmoothed Probabilities of Tokens:\n",
      "P(a) = 0.2\n",
      "P(book) = 0.2\n",
      "P(read) = 0.2\n",
      "P(I) = 0.06666666666666667\n",
      "P(Danielle) = 0.06666666666666667\n",
      "P(my) = 0.06666666666666667\n",
      "P(different) = 0.06666666666666667\n",
      "P(He) = 0.13333333333333333\n",
      "\n",
      "Smoothed Probabilities of Tokens:\n",
      "P(a) = 0.16666666666666666\n",
      "P(book) = 0.16666666666666666\n",
      "P(read) = 0.16666666666666666\n",
      "P(I) = 0.08333333333333333\n",
      "P(Danielle) = 0.08333333333333333\n",
      "P(my) = 0.08333333333333333\n",
      "P(different) = 0.08333333333333333\n",
      "P(He) = 0.125\n",
      "\n"
     ]
    }
   ],
   "source": [
    "# Summary of unigram probabilities\n",
    "print(\"Number of Tokens: \" + str(totalToken))\n",
    "print(\"Number of Unique Tokens: \" + str(totalUniqueToken) + \"\\n\")\n",
    "print(\"Frequency of Tokens:\\n\" + frequencyResult)\n",
    "print(\"Unsmoothed Probabilities of Tokens:\\n\" + unsmoothedResult)\n",
    "print(\"Smoothed Probabilities of Tokens:\\n\" + smoothedResult)"
   ],
   "metadata": {
    "collapsed": false,
    "pycharm": {
     "name": "#%%\n"
    }
   }
  },
  {
   "cell_type": "code",
   "execution_count": 7,
   "outputs": [],
   "source": [],
   "metadata": {
    "collapsed": false,
    "pycharm": {
     "name": "#%%\n"
    }
   }
  },
  {
   "cell_type": "markdown",
   "source": [
    "# Question 2\n",
    "Form a bigram language model"
   ],
   "metadata": {
    "collapsed": false,
    "pycharm": {
     "name": "#%% md\n"
    }
   }
  },
  {
   "cell_type": "code",
   "execution_count": 8,
   "outputs": [],
   "source": [
    "#import package\n",
    "import nltk\n",
    "import pandas as pd\n",
    "from copy import deepcopy"
   ],
   "metadata": {
    "collapsed": false,
    "pycharm": {
     "name": "#%%\n"
    }
   }
  },
  {
   "cell_type": "code",
   "execution_count": 9,
   "outputs": [
    {
     "name": "stdout",
     "output_type": "stream",
     "text": [
      "<s> He read a book </s>\n",
      "<s> I read a different book </s>\n",
      "<s> He read a book my Danielle </s>\n"
     ]
    }
   ],
   "source": [
    "file = open('Text Corpus.txt')\n",
    "data = file.read()\n",
    "print (data)"
   ],
   "metadata": {
    "collapsed": false,
    "pycharm": {
     "name": "#%%\n"
    }
   }
  },
  {
   "cell_type": "code",
   "execution_count": 10,
   "outputs": [
    {
     "name": "stdout",
     "output_type": "stream",
     "text": [
      "There are a total of 3 sentences:\n",
      "\n",
      "1 - <s> He read a book </s> \n",
      "\n",
      "2 - <s> I read a different book </s> \n",
      "\n",
      "3 - <s> He read a book my Danielle </s> \n",
      "\n"
     ]
    },
    {
     "name": "stderr",
     "output_type": "stream",
     "text": [
      "[nltk_data] Downloading package punkt to\n",
      "[nltk_data]     C:\\Users\\munky\\AppData\\Roaming\\nltk_data...\n",
      "[nltk_data]   Package punkt is already up-to-date!\n"
     ]
    }
   ],
   "source": [
    "nltk.download('punkt')\n",
    "from nltk.tokenize import sent_tokenize\n",
    "\n",
    "sentences = data.split('\\n')\n",
    "print(\"There are a total of\", len(sentences),\"sentences:\\n\")\n",
    "\n",
    "count = 0\n",
    "\n",
    "#print the sentences\n",
    "for sentence in sentences:\n",
    "    count = count + 1\n",
    "    print(count,\"-\",sentence,\"\\n\")"
   ],
   "metadata": {
    "collapsed": false,
    "pycharm": {
     "name": "#%%\n"
    }
   }
  },
  {
   "cell_type": "code",
   "execution_count": 11,
   "outputs": [
    {
     "name": "stdout",
     "output_type": "stream",
     "text": [
      "['<s>', 'He', 'read', 'a', 'book', '</s>', '<s>', 'I', 'read', 'a', 'different', 'book', '</s>', '<s>', 'He', 'read', 'a', 'book', 'my', 'Danielle', '</s>']\n",
      "Number of words: 21\n"
     ]
    }
   ],
   "source": [
    "#Word tokenization\n",
    "from nltk.tokenize import word_tokenize\n",
    "import nltk\n",
    "import re\n",
    "\n",
    "wordTokens = data.split()\n",
    "\n",
    "print (wordTokens)\n",
    "print (\"Number of words:\", len(wordTokens))"
   ],
   "metadata": {
    "collapsed": false,
    "pycharm": {
     "name": "#%%\n"
    }
   }
  },
  {
   "cell_type": "code",
   "execution_count": 12,
   "outputs": [
    {
     "name": "stdout",
     "output_type": "stream",
     "text": [
      "\n",
      "Unique words in text file:\n",
      "</s>\n",
      "<s>\n",
      "Danielle\n",
      "He\n",
      "I\n",
      "a\n",
      "book\n",
      "different\n",
      "my\n",
      "read\n"
     ]
    }
   ],
   "source": [
    "#Unique word list\n",
    "UniqueWords = list(set(wordTokens))\n",
    "\n",
    "UniqueWords.sort()\n",
    "\n",
    "print (\"\\nUnique words in text file:\")\n",
    "\n",
    "for words in UniqueWords:\n",
    "    print (words)"
   ],
   "metadata": {
    "collapsed": false,
    "pycharm": {
     "name": "#%%\n"
    }
   }
  },
  {
   "cell_type": "code",
   "execution_count": 13,
   "outputs": [],
   "source": [
    "def DataFrame(table, ColName = None):\n",
    "    if ColName == None:\n",
    "\n",
    "        columns = list(table.keys())\n",
    "    else:\n",
    "        columns = ColName\n",
    "\n",
    "    #dataframe with ColName\n",
    "    df = pd.DataFrame (columns = columns)\n",
    "\n",
    "    for key, value in table.items():\n",
    "\n",
    "        df = df.append(pd.Series(value, name = key))\n",
    "\n",
    "    return df"
   ],
   "metadata": {
    "collapsed": false,
    "pycharm": {
     "name": "#%%\n"
    }
   }
  },
  {
   "cell_type": "code",
   "execution_count": 14,
   "outputs": [
    {
     "name": "stdout",
     "output_type": "stream",
     "text": [
      "</s>: 3\n",
      "<s>: 3\n",
      "Danielle: 1\n",
      "He: 2\n",
      "I: 1\n",
      "a: 3\n",
      "book: 3\n",
      "different: 1\n",
      "my: 1\n",
      "read: 3\n"
     ]
    }
   ],
   "source": [
    "#Unigram dictionary\n",
    "UniCount = {}\n",
    "\n",
    "for word in UniqueWords:\n",
    "    UniCount[word] = wordTokens.count(word)\n",
    "for word, count in UniCount.items():\n",
    "    print(\"{0}: {1}\".format(word,count))"
   ],
   "metadata": {
    "collapsed": false,
    "pycharm": {
     "name": "#%%\n"
    }
   }
  },
  {
   "cell_type": "code",
   "execution_count": 15,
   "outputs": [
    {
     "name": "stdout",
     "output_type": "stream",
     "text": [
      "Bigram Count Table:\n",
      "          </s> <s> Danielle He  I  a book different my read\n",
      "</s>         0   0        0  0  0  0    0         0  0    0\n",
      "<s>          0   0        0  2  1  0    0         0  0    0\n",
      "Danielle     1   0        0  0  0  0    0         0  0    0\n",
      "He           0   0        0  0  0  0    0         0  0    2\n",
      "I            0   0        0  0  0  0    0         0  0    1\n",
      "a            0   0        0  0  0  0    2         1  0    0\n",
      "book         2   0        0  0  0  0    0         0  1    0\n",
      "different    0   0        0  0  0  0    1         0  0    0\n",
      "my           0   0        1  0  0  0    0         0  0    0\n",
      "read         0   0        0  0  0  3    0         0  0    0\n"
     ]
    },
    {
     "name": "stderr",
     "output_type": "stream",
     "text": [
      "C:\\Users\\munky\\AppData\\Local\\Temp\\ipykernel_29424\\332177966.py:13: FutureWarning: The frame.append method is deprecated and will be removed from pandas in a future version. Use pandas.concat instead.\n",
      "  df = df.append(pd.Series(value, name = key))\n",
      "C:\\Users\\munky\\AppData\\Local\\Temp\\ipykernel_29424\\332177966.py:13: FutureWarning: The frame.append method is deprecated and will be removed from pandas in a future version. Use pandas.concat instead.\n",
      "  df = df.append(pd.Series(value, name = key))\n",
      "C:\\Users\\munky\\AppData\\Local\\Temp\\ipykernel_29424\\332177966.py:13: FutureWarning: The frame.append method is deprecated and will be removed from pandas in a future version. Use pandas.concat instead.\n",
      "  df = df.append(pd.Series(value, name = key))\n",
      "C:\\Users\\munky\\AppData\\Local\\Temp\\ipykernel_29424\\332177966.py:13: FutureWarning: The frame.append method is deprecated and will be removed from pandas in a future version. Use pandas.concat instead.\n",
      "  df = df.append(pd.Series(value, name = key))\n",
      "C:\\Users\\munky\\AppData\\Local\\Temp\\ipykernel_29424\\332177966.py:13: FutureWarning: The frame.append method is deprecated and will be removed from pandas in a future version. Use pandas.concat instead.\n",
      "  df = df.append(pd.Series(value, name = key))\n",
      "C:\\Users\\munky\\AppData\\Local\\Temp\\ipykernel_29424\\332177966.py:13: FutureWarning: The frame.append method is deprecated and will be removed from pandas in a future version. Use pandas.concat instead.\n",
      "  df = df.append(pd.Series(value, name = key))\n",
      "C:\\Users\\munky\\AppData\\Local\\Temp\\ipykernel_29424\\332177966.py:13: FutureWarning: The frame.append method is deprecated and will be removed from pandas in a future version. Use pandas.concat instead.\n",
      "  df = df.append(pd.Series(value, name = key))\n",
      "C:\\Users\\munky\\AppData\\Local\\Temp\\ipykernel_29424\\332177966.py:13: FutureWarning: The frame.append method is deprecated and will be removed from pandas in a future version. Use pandas.concat instead.\n",
      "  df = df.append(pd.Series(value, name = key))\n",
      "C:\\Users\\munky\\AppData\\Local\\Temp\\ipykernel_29424\\332177966.py:13: FutureWarning: The frame.append method is deprecated and will be removed from pandas in a future version. Use pandas.concat instead.\n",
      "  df = df.append(pd.Series(value, name = key))\n",
      "C:\\Users\\munky\\AppData\\Local\\Temp\\ipykernel_29424\\332177966.py:13: FutureWarning: The frame.append method is deprecated and will be removed from pandas in a future version. Use pandas.concat instead.\n",
      "  df = df.append(pd.Series(value, name = key))\n"
     ]
    }
   ],
   "source": [
    "#Bigram dictionary\n",
    "BiCount = {}\n",
    "\n",
    "for word in UniqueWords:\n",
    "    BiCount[word] = {x:0 for x in UniqueWords}\n",
    "\n",
    "for sentence in sentences:\n",
    "    SentenceToken = sentence.split(' ')\n",
    "\n",
    "    for m in range(len(SentenceToken)-1):\n",
    "\n",
    "        BiCount[SentenceToken[m]][SentenceToken[m+1]]+= 1\n",
    "\n",
    "print(\"Bigram Count Table:\")\n",
    "\n",
    "BiCount_Table = DataFrame(BiCount)\n",
    "\n",
    "print (BiCount_Table)"
   ],
   "metadata": {
    "collapsed": false,
    "pycharm": {
     "name": "#%%\n"
    }
   }
  },
  {
   "cell_type": "code",
   "execution_count": 16,
   "outputs": [
    {
     "name": "stdout",
     "output_type": "stream",
     "text": [
      "Number of Bigram: 12 \n",
      "\n",
      "Bigram Probability: \n",
      "\n",
      "P(</s>|</s>) = 0\n",
      "P(<s>|</s>) = 0\n",
      "P(Danielle|</s>) = 0\n",
      "P(He|</s>) = 0\n",
      "P(I|</s>) = 0\n",
      "P(a|</s>) = 0\n",
      "P(book|</s>) = 0\n",
      "P(different|</s>) = 0\n",
      "P(my|</s>) = 0\n",
      "P(read|</s>) = 0\n",
      "\n",
      "P(</s>|<s>) = 0\n",
      "P(<s>|<s>) = 0\n",
      "P(Danielle|<s>) = 0\n",
      "P(He|<s>) = 0.6666666666666666\n",
      "P(I|<s>) = 0.3333333333333333\n",
      "P(a|<s>) = 0\n",
      "P(book|<s>) = 0\n",
      "P(different|<s>) = 0\n",
      "P(my|<s>) = 0\n",
      "P(read|<s>) = 0\n",
      "\n",
      "P(</s>|Danielle) = 1.0\n",
      "P(<s>|Danielle) = 0\n",
      "P(Danielle|Danielle) = 0\n",
      "P(He|Danielle) = 0\n",
      "P(I|Danielle) = 0\n",
      "P(a|Danielle) = 0\n",
      "P(book|Danielle) = 0\n",
      "P(different|Danielle) = 0\n",
      "P(my|Danielle) = 0\n",
      "P(read|Danielle) = 0\n",
      "\n",
      "P(</s>|He) = 0\n",
      "P(<s>|He) = 0\n",
      "P(Danielle|He) = 0\n",
      "P(He|He) = 0\n",
      "P(I|He) = 0\n",
      "P(a|He) = 0\n",
      "P(book|He) = 0\n",
      "P(different|He) = 0\n",
      "P(my|He) = 0\n",
      "P(read|He) = 1.0\n",
      "\n",
      "P(</s>|I) = 0\n",
      "P(<s>|I) = 0\n",
      "P(Danielle|I) = 0\n",
      "P(He|I) = 0\n",
      "P(I|I) = 0\n",
      "P(a|I) = 0\n",
      "P(book|I) = 0\n",
      "P(different|I) = 0\n",
      "P(my|I) = 0\n",
      "P(read|I) = 1.0\n",
      "\n",
      "P(</s>|a) = 0\n",
      "P(<s>|a) = 0\n",
      "P(Danielle|a) = 0\n",
      "P(He|a) = 0\n",
      "P(I|a) = 0\n",
      "P(a|a) = 0\n",
      "P(book|a) = 0.6666666666666666\n",
      "P(different|a) = 0.3333333333333333\n",
      "P(my|a) = 0\n",
      "P(read|a) = 0\n",
      "\n",
      "P(</s>|book) = 0.6666666666666666\n",
      "P(<s>|book) = 0\n",
      "P(Danielle|book) = 0\n",
      "P(He|book) = 0\n",
      "P(I|book) = 0\n",
      "P(a|book) = 0\n",
      "P(book|book) = 0\n",
      "P(different|book) = 0\n",
      "P(my|book) = 0.3333333333333333\n",
      "P(read|book) = 0\n",
      "\n",
      "P(</s>|different) = 0\n",
      "P(<s>|different) = 0\n",
      "P(Danielle|different) = 0\n",
      "P(He|different) = 0\n",
      "P(I|different) = 0\n",
      "P(a|different) = 0\n",
      "P(book|different) = 1.0\n",
      "P(different|different) = 0\n",
      "P(my|different) = 0\n",
      "P(read|different) = 0\n",
      "\n",
      "P(</s>|my) = 0\n",
      "P(<s>|my) = 0\n",
      "P(Danielle|my) = 1.0\n",
      "P(He|my) = 0\n",
      "P(I|my) = 0\n",
      "P(a|my) = 0\n",
      "P(book|my) = 0\n",
      "P(different|my) = 0\n",
      "P(my|my) = 0\n",
      "P(read|my) = 0\n",
      "\n",
      "P(</s>|read) = 0\n",
      "P(<s>|read) = 0\n",
      "P(Danielle|read) = 0\n",
      "P(He|read) = 0\n",
      "P(I|read) = 0\n",
      "P(a|read) = 1.0\n",
      "P(book|read) = 0\n",
      "P(different|read) = 0\n",
      "P(my|read) = 0\n",
      "P(read|read) = 0\n",
      "\n"
     ]
    }
   ],
   "source": [
    "#Unsmoothed bigram probabilites:\n",
    "\n",
    "BiProbability = deepcopy(BiCount)\n",
    "\n",
    "counter = 0\n",
    "\n",
    "for a,b in BiCount.items():\n",
    "    for y,z in b.items():\n",
    "\n",
    "        #only probability higher than 0 will be counted\n",
    "        if z!=0:\n",
    "\n",
    "            counter = counter + 1\n",
    "\n",
    "            #Probability of bigram\n",
    "            BiProbability[a][y] = float(z)/UniCount[a]\n",
    "\n",
    "print (\"Number of Bigram: {0} \\n\".format(counter))\n",
    "\n",
    "print (\"Bigram Probability: \\n\")\n",
    "\n",
    "#displaying probability for the combinations existed\n",
    "for a,b in BiProbability.items():\n",
    "    for y,z in b.items():\n",
    "        print (\"P({0}|{1}) = {2}\".format(y,a,z))\n",
    "    print(\"\")"
   ],
   "metadata": {
    "collapsed": false,
    "pycharm": {
     "name": "#%%\n"
    }
   }
  },
  {
   "cell_type": "code",
   "execution_count": 17,
   "outputs": [
    {
     "name": "stdout",
     "output_type": "stream",
     "text": [
      "UnSmoothed Bigram Probability\n",
      "               </s>  <s> Danielle        He         I    a      book  \\\n",
      "</s>              0    0        0         0         0    0         0   \n",
      "<s>             0.0  0.0      0.0  0.666667  0.333333  0.0       0.0   \n",
      "Danielle        1.0  0.0      0.0       0.0       0.0  0.0       0.0   \n",
      "He              0.0  0.0      0.0       0.0       0.0  0.0       0.0   \n",
      "I               0.0  0.0      0.0       0.0       0.0  0.0       0.0   \n",
      "a               0.0  0.0      0.0       0.0       0.0  0.0  0.666667   \n",
      "book       0.666667  0.0      0.0       0.0       0.0  0.0       0.0   \n",
      "different       0.0  0.0      0.0       0.0       0.0  0.0       1.0   \n",
      "my              0.0  0.0      1.0       0.0       0.0  0.0       0.0   \n",
      "read            0.0  0.0      0.0       0.0       0.0  1.0       0.0   \n",
      "\n",
      "          different        my read  \n",
      "</s>              0         0    0  \n",
      "<s>             0.0       0.0  0.0  \n",
      "Danielle        0.0       0.0  0.0  \n",
      "He              0.0       0.0  1.0  \n",
      "I               0.0       0.0  1.0  \n",
      "a          0.333333       0.0  0.0  \n",
      "book            0.0  0.333333  0.0  \n",
      "different       0.0       0.0  0.0  \n",
      "my              0.0       0.0  0.0  \n",
      "read            0.0       0.0  0.0  \n"
     ]
    },
    {
     "name": "stderr",
     "output_type": "stream",
     "text": [
      "C:\\Users\\munky\\AppData\\Local\\Temp\\ipykernel_29424\\332177966.py:13: FutureWarning: The frame.append method is deprecated and will be removed from pandas in a future version. Use pandas.concat instead.\n",
      "  df = df.append(pd.Series(value, name = key))\n",
      "C:\\Users\\munky\\AppData\\Local\\Temp\\ipykernel_29424\\332177966.py:13: FutureWarning: The frame.append method is deprecated and will be removed from pandas in a future version. Use pandas.concat instead.\n",
      "  df = df.append(pd.Series(value, name = key))\n",
      "C:\\Users\\munky\\AppData\\Local\\Temp\\ipykernel_29424\\332177966.py:13: FutureWarning: The frame.append method is deprecated and will be removed from pandas in a future version. Use pandas.concat instead.\n",
      "  df = df.append(pd.Series(value, name = key))\n",
      "C:\\Users\\munky\\AppData\\Local\\Temp\\ipykernel_29424\\332177966.py:13: FutureWarning: The frame.append method is deprecated and will be removed from pandas in a future version. Use pandas.concat instead.\n",
      "  df = df.append(pd.Series(value, name = key))\n",
      "C:\\Users\\munky\\AppData\\Local\\Temp\\ipykernel_29424\\332177966.py:13: FutureWarning: The frame.append method is deprecated and will be removed from pandas in a future version. Use pandas.concat instead.\n",
      "  df = df.append(pd.Series(value, name = key))\n",
      "C:\\Users\\munky\\AppData\\Local\\Temp\\ipykernel_29424\\332177966.py:13: FutureWarning: The frame.append method is deprecated and will be removed from pandas in a future version. Use pandas.concat instead.\n",
      "  df = df.append(pd.Series(value, name = key))\n",
      "C:\\Users\\munky\\AppData\\Local\\Temp\\ipykernel_29424\\332177966.py:13: FutureWarning: The frame.append method is deprecated and will be removed from pandas in a future version. Use pandas.concat instead.\n",
      "  df = df.append(pd.Series(value, name = key))\n",
      "C:\\Users\\munky\\AppData\\Local\\Temp\\ipykernel_29424\\332177966.py:13: FutureWarning: The frame.append method is deprecated and will be removed from pandas in a future version. Use pandas.concat instead.\n",
      "  df = df.append(pd.Series(value, name = key))\n",
      "C:\\Users\\munky\\AppData\\Local\\Temp\\ipykernel_29424\\332177966.py:13: FutureWarning: The frame.append method is deprecated and will be removed from pandas in a future version. Use pandas.concat instead.\n",
      "  df = df.append(pd.Series(value, name = key))\n",
      "C:\\Users\\munky\\AppData\\Local\\Temp\\ipykernel_29424\\332177966.py:13: FutureWarning: The frame.append method is deprecated and will be removed from pandas in a future version. Use pandas.concat instead.\n",
      "  df = df.append(pd.Series(value, name = key))\n"
     ]
    }
   ],
   "source": [
    "#Summary of Unsmoothed Bigram Probability\n",
    "unsmoothedBiProbability = DataFrame (BiProbability)\n",
    "print (\"UnSmoothed Bigram Probability\")\n",
    "print (unsmoothedBiProbability)"
   ],
   "metadata": {
    "collapsed": false,
    "pycharm": {
     "name": "#%%\n"
    }
   }
  },
  {
   "cell_type": "code",
   "execution_count": 18,
   "outputs": [
    {
     "name": "stdout",
     "output_type": "stream",
     "text": [
      "Smoothed Bigram Probability: \n",
      "\n",
      "P(</s>|</s>) = 0.07142857142857142\n",
      "P(<s>|</s>) = 0.07142857142857142\n",
      "P(Danielle|</s>) = 0.07142857142857142\n",
      "P(He|</s>) = 0.07142857142857142\n",
      "P(I|</s>) = 0.07142857142857142\n",
      "P(a|</s>) = 0.07142857142857142\n",
      "P(book|</s>) = 0.07142857142857142\n",
      "P(different|</s>) = 0.07142857142857142\n",
      "P(my|</s>) = 0.07142857142857142\n",
      "P(read|</s>) = 0.07142857142857142\n",
      "\n",
      "P(</s>|<s>) = 0.07142857142857142\n",
      "P(<s>|<s>) = 0.07142857142857142\n",
      "P(Danielle|<s>) = 0.07142857142857142\n",
      "P(He|<s>) = 0.21428571428571427\n",
      "P(I|<s>) = 0.14285714285714285\n",
      "P(a|<s>) = 0.07142857142857142\n",
      "P(book|<s>) = 0.07142857142857142\n",
      "P(different|<s>) = 0.07142857142857142\n",
      "P(my|<s>) = 0.07142857142857142\n",
      "P(read|<s>) = 0.07142857142857142\n",
      "\n",
      "P(</s>|Danielle) = 0.16666666666666666\n",
      "P(<s>|Danielle) = 0.08333333333333333\n",
      "P(Danielle|Danielle) = 0.08333333333333333\n",
      "P(He|Danielle) = 0.08333333333333333\n",
      "P(I|Danielle) = 0.08333333333333333\n",
      "P(a|Danielle) = 0.08333333333333333\n",
      "P(book|Danielle) = 0.08333333333333333\n",
      "P(different|Danielle) = 0.08333333333333333\n",
      "P(my|Danielle) = 0.08333333333333333\n",
      "P(read|Danielle) = 0.08333333333333333\n",
      "\n",
      "P(</s>|He) = 0.07692307692307693\n",
      "P(<s>|He) = 0.07692307692307693\n",
      "P(Danielle|He) = 0.07692307692307693\n",
      "P(He|He) = 0.07692307692307693\n",
      "P(I|He) = 0.07692307692307693\n",
      "P(a|He) = 0.07692307692307693\n",
      "P(book|He) = 0.07692307692307693\n",
      "P(different|He) = 0.07692307692307693\n",
      "P(my|He) = 0.07692307692307693\n",
      "P(read|He) = 0.23076923076923078\n",
      "\n",
      "P(</s>|I) = 0.08333333333333333\n",
      "P(<s>|I) = 0.08333333333333333\n",
      "P(Danielle|I) = 0.08333333333333333\n",
      "P(He|I) = 0.08333333333333333\n",
      "P(I|I) = 0.08333333333333333\n",
      "P(a|I) = 0.08333333333333333\n",
      "P(book|I) = 0.08333333333333333\n",
      "P(different|I) = 0.08333333333333333\n",
      "P(my|I) = 0.08333333333333333\n",
      "P(read|I) = 0.16666666666666666\n",
      "\n",
      "P(</s>|a) = 0.07142857142857142\n",
      "P(<s>|a) = 0.07142857142857142\n",
      "P(Danielle|a) = 0.07142857142857142\n",
      "P(He|a) = 0.07142857142857142\n",
      "P(I|a) = 0.07142857142857142\n",
      "P(a|a) = 0.07142857142857142\n",
      "P(book|a) = 0.21428571428571427\n",
      "P(different|a) = 0.14285714285714285\n",
      "P(my|a) = 0.07142857142857142\n",
      "P(read|a) = 0.07142857142857142\n",
      "\n",
      "P(</s>|book) = 0.21428571428571427\n",
      "P(<s>|book) = 0.07142857142857142\n",
      "P(Danielle|book) = 0.07142857142857142\n",
      "P(He|book) = 0.07142857142857142\n",
      "P(I|book) = 0.07142857142857142\n",
      "P(a|book) = 0.07142857142857142\n",
      "P(book|book) = 0.07142857142857142\n",
      "P(different|book) = 0.07142857142857142\n",
      "P(my|book) = 0.14285714285714285\n",
      "P(read|book) = 0.07142857142857142\n",
      "\n",
      "P(</s>|different) = 0.08333333333333333\n",
      "P(<s>|different) = 0.08333333333333333\n",
      "P(Danielle|different) = 0.08333333333333333\n",
      "P(He|different) = 0.08333333333333333\n",
      "P(I|different) = 0.08333333333333333\n",
      "P(a|different) = 0.08333333333333333\n",
      "P(book|different) = 0.16666666666666666\n",
      "P(different|different) = 0.08333333333333333\n",
      "P(my|different) = 0.08333333333333333\n",
      "P(read|different) = 0.08333333333333333\n",
      "\n",
      "P(</s>|my) = 0.08333333333333333\n",
      "P(<s>|my) = 0.08333333333333333\n",
      "P(Danielle|my) = 0.16666666666666666\n",
      "P(He|my) = 0.08333333333333333\n",
      "P(I|my) = 0.08333333333333333\n",
      "P(a|my) = 0.08333333333333333\n",
      "P(book|my) = 0.08333333333333333\n",
      "P(different|my) = 0.08333333333333333\n",
      "P(my|my) = 0.08333333333333333\n",
      "P(read|my) = 0.08333333333333333\n",
      "\n",
      "P(</s>|read) = 0.07142857142857142\n",
      "P(<s>|read) = 0.07142857142857142\n",
      "P(Danielle|read) = 0.07142857142857142\n",
      "P(He|read) = 0.07142857142857142\n",
      "P(I|read) = 0.07142857142857142\n",
      "P(a|read) = 0.2857142857142857\n",
      "P(book|read) = 0.07142857142857142\n",
      "P(different|read) = 0.07142857142857142\n",
      "P(my|read) = 0.07142857142857142\n",
      "P(read|read) = 0.07142857142857142\n",
      "\n"
     ]
    }
   ],
   "source": [
    "#Smoothed Bigram Probability:\n",
    "\n",
    "#Bigram count dictionary\n",
    "SmoothBiProbability = deepcopy (BiCount)\n",
    "\n",
    "for a,b in BiCount.items():\n",
    "    for y,z in b.items():\n",
    "\n",
    "        #count smoothed bigram probability (<UNK> will be added)\n",
    "        SmoothBiProbability[a][y] = (float(z)+1)/ (UniCount[a] + len(UniqueWords) + 1)\n",
    "\n",
    "print (\"Smoothed Bigram Probability: \\n\")\n",
    "\n",
    "#displaying probability for the combinations existed\n",
    "for a,b in SmoothBiProbability.items():\n",
    "    for y,z in b.items():\n",
    "        print (\"P({0}|{1}) = {2}\".format(y,a,z))\n",
    "\n",
    "    print(\"\")"
   ],
   "metadata": {
    "collapsed": false,
    "pycharm": {
     "name": "#%%\n"
    }
   }
  },
  {
   "cell_type": "code",
   "execution_count": 19,
   "outputs": [
    {
     "name": "stdout",
     "output_type": "stream",
     "text": [
      "Smoothed Bigram Probability\n",
      "               </s>       <s>  Danielle        He         I         a  \\\n",
      "</s>       0.071429  0.071429  0.071429  0.071429  0.071429  0.071429   \n",
      "<s>        0.071429  0.071429  0.071429  0.214286  0.142857  0.071429   \n",
      "Danielle   0.166667  0.083333  0.083333  0.083333  0.083333  0.083333   \n",
      "He         0.076923  0.076923  0.076923  0.076923  0.076923  0.076923   \n",
      "I          0.083333  0.083333  0.083333  0.083333  0.083333  0.083333   \n",
      "a          0.071429  0.071429  0.071429  0.071429  0.071429  0.071429   \n",
      "book       0.214286  0.071429  0.071429  0.071429  0.071429  0.071429   \n",
      "different  0.083333  0.083333  0.083333  0.083333  0.083333  0.083333   \n",
      "my         0.083333  0.083333  0.166667  0.083333  0.083333  0.083333   \n",
      "read       0.071429  0.071429  0.071429  0.071429  0.071429  0.285714   \n",
      "\n",
      "               book  different        my      read  \n",
      "</s>       0.071429   0.071429  0.071429  0.071429  \n",
      "<s>        0.071429   0.071429  0.071429  0.071429  \n",
      "Danielle   0.083333   0.083333  0.083333  0.083333  \n",
      "He         0.076923   0.076923  0.076923  0.230769  \n",
      "I          0.083333   0.083333  0.083333  0.166667  \n",
      "a          0.214286   0.142857  0.071429  0.071429  \n",
      "book       0.071429   0.071429  0.142857  0.071429  \n",
      "different  0.166667   0.083333  0.083333  0.083333  \n",
      "my         0.083333   0.083333  0.083333  0.083333  \n",
      "read       0.071429   0.071429  0.071429  0.071429  \n"
     ]
    },
    {
     "name": "stderr",
     "output_type": "stream",
     "text": [
      "C:\\Users\\munky\\AppData\\Local\\Temp\\ipykernel_29424\\332177966.py:13: FutureWarning: The frame.append method is deprecated and will be removed from pandas in a future version. Use pandas.concat instead.\n",
      "  df = df.append(pd.Series(value, name = key))\n",
      "C:\\Users\\munky\\AppData\\Local\\Temp\\ipykernel_29424\\332177966.py:13: FutureWarning: The frame.append method is deprecated and will be removed from pandas in a future version. Use pandas.concat instead.\n",
      "  df = df.append(pd.Series(value, name = key))\n",
      "C:\\Users\\munky\\AppData\\Local\\Temp\\ipykernel_29424\\332177966.py:13: FutureWarning: The frame.append method is deprecated and will be removed from pandas in a future version. Use pandas.concat instead.\n",
      "  df = df.append(pd.Series(value, name = key))\n",
      "C:\\Users\\munky\\AppData\\Local\\Temp\\ipykernel_29424\\332177966.py:13: FutureWarning: The frame.append method is deprecated and will be removed from pandas in a future version. Use pandas.concat instead.\n",
      "  df = df.append(pd.Series(value, name = key))\n",
      "C:\\Users\\munky\\AppData\\Local\\Temp\\ipykernel_29424\\332177966.py:13: FutureWarning: The frame.append method is deprecated and will be removed from pandas in a future version. Use pandas.concat instead.\n",
      "  df = df.append(pd.Series(value, name = key))\n",
      "C:\\Users\\munky\\AppData\\Local\\Temp\\ipykernel_29424\\332177966.py:13: FutureWarning: The frame.append method is deprecated and will be removed from pandas in a future version. Use pandas.concat instead.\n",
      "  df = df.append(pd.Series(value, name = key))\n",
      "C:\\Users\\munky\\AppData\\Local\\Temp\\ipykernel_29424\\332177966.py:13: FutureWarning: The frame.append method is deprecated and will be removed from pandas in a future version. Use pandas.concat instead.\n",
      "  df = df.append(pd.Series(value, name = key))\n",
      "C:\\Users\\munky\\AppData\\Local\\Temp\\ipykernel_29424\\332177966.py:13: FutureWarning: The frame.append method is deprecated and will be removed from pandas in a future version. Use pandas.concat instead.\n",
      "  df = df.append(pd.Series(value, name = key))\n",
      "C:\\Users\\munky\\AppData\\Local\\Temp\\ipykernel_29424\\332177966.py:13: FutureWarning: The frame.append method is deprecated and will be removed from pandas in a future version. Use pandas.concat instead.\n",
      "  df = df.append(pd.Series(value, name = key))\n",
      "C:\\Users\\munky\\AppData\\Local\\Temp\\ipykernel_29424\\332177966.py:13: FutureWarning: The frame.append method is deprecated and will be removed from pandas in a future version. Use pandas.concat instead.\n",
      "  df = df.append(pd.Series(value, name = key))\n"
     ]
    }
   ],
   "source": [
    "#Summary of Smoothed Bigram Probability\n",
    "smoothedBiProbability = DataFrame (SmoothBiProbability)\n",
    "print (\"Smoothed Bigram Probability\")\n",
    "print (smoothedBiProbability)"
   ],
   "metadata": {
    "collapsed": false,
    "pycharm": {
     "name": "#%%\n"
    }
   }
  },
  {
   "cell_type": "code",
   "execution_count": 20,
   "outputs": [],
   "source": [
    "from nltk.util import bigrams\n",
    "\n",
    "bi_probs = {}\n",
    "bi_count = 0\n",
    "bi_counts = {}\n",
    "word_counts = {}\n",
    "for s in sentences:\n",
    "    for word in s.split(' '):\n",
    "        if word_counts.get(word) is None:\n",
    "            word_counts[word] = 0\n",
    "        word_counts[word] += 1\n",
    "\n",
    "    for bi in bigrams(s.split(' ')):\n",
    "        if bi_counts.get(bi) is None:\n",
    "            bi_counts[bi] = 0\n",
    "        bi_counts[bi] += 1\n",
    "        bi_count += 1\n",
    "# print(counts)\n",
    "for k,v in bi_counts.items():\n",
    "    bi_probs[k] = (v + 1)/(word_counts[k[0]] + len(word_counts.keys()) + 1)"
   ],
   "metadata": {
    "collapsed": false,
    "pycharm": {
     "name": "#%%\n"
    }
   }
  },
  {
   "cell_type": "markdown",
   "source": [
    "# Question 3\n",
    "Implement and report the respective sentence probabilities in python using both unigram and bigram language models."
   ],
   "metadata": {
    "collapsed": false,
    "pycharm": {
     "name": "#%% md\n"
    }
   }
  },
  {
   "cell_type": "code",
   "execution_count": 21,
   "outputs": [
    {
     "data": {
      "text/plain": "['<s> He read a book </s>',\n '<s> I read a different book </s>',\n '<s> He read a book my Danielle </s>']"
     },
     "execution_count": 21,
     "metadata": {},
     "output_type": "execute_result"
    }
   ],
   "source": [
    "from nltk.tokenize import sent_tokenize\n",
    "import re\n",
    "with open(\"Text Corpus.txt\") as f:\n",
    "    data = f.read()\n",
    "sentences = data.split('\\n')\n",
    "sentences"
   ],
   "metadata": {
    "collapsed": false,
    "pycharm": {
     "name": "#%%\n"
    }
   }
  },
  {
   "cell_type": "code",
   "execution_count": 22,
   "outputs": [],
   "source": [
    "def unigram_probability(sentence, probabilities):\n",
    "    final_prob = 1\n",
    "    for word in sentence.split(' '):\n",
    "        if word == \"<s>\" or word == \"</s>\":\n",
    "            continue\n",
    "        final_prob *= probabilities[word]\n",
    "    return final_prob\n",
    "\n",
    "def bigram_probability(sentence, probabilities):\n",
    "    final_prob = 1\n",
    "    for word in bigrams(sentence.split(' ')):\n",
    "        final_prob *= probabilities[word]\n",
    "    return final_prob"
   ],
   "metadata": {
    "collapsed": false,
    "pycharm": {
     "name": "#%%\n"
    }
   }
  },
  {
   "cell_type": "code",
   "execution_count": 23,
   "outputs": [
    {
     "name": "stdout",
     "output_type": "stream",
     "text": [
      "{'a': 0.16666666666666666, 'book': 0.16666666666666666, 'read': 0.16666666666666666, 'I': 0.08333333333333333, 'Danielle': 0.08333333333333333, 'my': 0.08333333333333333, 'different': 0.08333333333333333, 'He': 0.125}\n"
     ]
    }
   ],
   "source": [
    "\n",
    "print(uni_probs)"
   ],
   "metadata": {
    "collapsed": false,
    "pycharm": {
     "name": "#%%\n"
    }
   }
  },
  {
   "cell_type": "code",
   "execution_count": 24,
   "outputs": [
    {
     "name": "stdout",
     "output_type": "stream",
     "text": [
      "{('<s>', 'He'): 0.21428571428571427, ('He', 'read'): 0.23076923076923078, ('read', 'a'): 0.2857142857142857, ('a', 'book'): 0.21428571428571427, ('book', '</s>'): 0.21428571428571427, ('<s>', 'I'): 0.14285714285714285, ('I', 'read'): 0.16666666666666666, ('a', 'different'): 0.14285714285714285, ('different', 'book'): 0.16666666666666666, ('book', 'my'): 0.14285714285714285, ('my', 'Danielle'): 0.16666666666666666, ('Danielle', '</s>'): 0.16666666666666666}\n"
     ]
    }
   ],
   "source": [
    "\n",
    "print(bi_probs)"
   ],
   "metadata": {
    "collapsed": false,
    "pycharm": {
     "name": "#%%\n"
    }
   }
  },
  {
   "cell_type": "code",
   "execution_count": 25,
   "outputs": [
    {
     "name": "stdout",
     "output_type": "stream",
     "text": [
      "Sentence : <s> He read a book </s>\n",
      "Unigram sentence probability : 0.0005787\n",
      "Bigram sentence probability : 0.0006488\n",
      "\n",
      "\n",
      "Sentence : <s> I read a different book </s>\n",
      "Unigram sentence probability : 0.0000322\n",
      "Bigram sentence probability : 0.0000347\n",
      "\n",
      "\n",
      "Sentence : <s> He read a book my Danielle </s>\n",
      "Unigram sentence probability : 0.0000040\n",
      "Bigram sentence probability : 0.0000120\n",
      "\n",
      "\n"
     ]
    }
   ],
   "source": [
    "for s in sentences:\n",
    "    print(f\"Sentence : {s}\")\n",
    "    print(f\"Unigram sentence probability : {unigram_probability(s, uni_probs):.07f}\")\n",
    "    print(f\"Bigram sentence probability : {bigram_probability(s, bi_probs):.07f}\")\n",
    "    print('\\n')"
   ],
   "metadata": {
    "collapsed": false,
    "pycharm": {
     "name": "#%%\n"
    }
   }
  },
  {
   "cell_type": "code",
   "execution_count": 26,
   "outputs": [
    {
     "name": "stdout",
     "output_type": "stream",
     "text": [
      "Sentence                                           Smooth Unigram  Smooth Bigram\n",
      "<s> He read a book </s>                                 0.0005787      0.0006488\n",
      "<s> I read a different book </s>                        0.0000322      0.0000347\n",
      "<s> He read a book my Danielle </s>                     0.0000040      0.0000120\n"
     ]
    }
   ],
   "source": [
    "print('Sentence'.ljust(50) + 'Smooth Unigram'.rjust(15) + 'Smooth Bigram'.rjust(15))\n",
    "for s in sentences:\n",
    "    final = ''\n",
    "    final += s.ljust(50)\n",
    "    final += f\"{unigram_probability(s, uni_probs):.07f}\".rjust(15)\n",
    "    final += f\"{bigram_probability(s, bi_probs):.07f}\".rjust(15)\n",
    "    print(final)"
   ],
   "metadata": {
    "collapsed": false,
    "pycharm": {
     "name": "#%%\n"
    }
   }
  },
  {
   "cell_type": "markdown",
   "source": [
    "# Question 4\n",
    "Work on sentence probabilities"
   ],
   "metadata": {
    "collapsed": false,
    "pycharm": {
     "name": "#%% md\n"
    }
   }
  },
  {
   "cell_type": "code",
   "execution_count": null,
   "outputs": [],
   "source": [],
   "metadata": {
    "collapsed": false,
    "pycharm": {
     "name": "#%%\n",
     "is_executing": true
    }
   }
  },
  {
   "cell_type": "code",
   "execution_count": null,
   "outputs": [],
   "source": [],
   "metadata": {
    "collapsed": false,
    "pycharm": {
     "name": "#%%\n",
     "is_executing": true
    }
   }
  },
  {
   "cell_type": "code",
   "execution_count": null,
   "outputs": [],
   "source": [],
   "metadata": {
    "collapsed": false,
    "pycharm": {
     "name": "#%%\n",
     "is_executing": true
    }
   }
  },
  {
   "cell_type": "code",
   "execution_count": 26,
   "outputs": [],
   "source": [],
   "metadata": {
    "collapsed": false,
    "pycharm": {
     "name": "#%%\n"
    }
   }
  }
 ],
 "metadata": {
  "kernelspec": {
   "display_name": "Python 3",
   "language": "python",
   "name": "python3"
  },
  "language_info": {
   "codemirror_mode": {
    "name": "ipython",
    "version": 2
   },
   "file_extension": ".py",
   "mimetype": "text/x-python",
   "name": "python",
   "nbconvert_exporter": "python",
   "pygments_lexer": "ipython2",
   "version": "2.7.6"
  }
 },
 "nbformat": 4,
 "nbformat_minor": 0
}